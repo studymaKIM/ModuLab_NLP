{
 "cells": [
  {
   "cell_type": "markdown",
   "metadata": {},
   "source": [
    "### 글루온 신경망 언어 모델 "
   ]
  },
  {
   "cell_type": "markdown",
   "metadata": {},
   "source": [
    "지금까지 기존 언어모델의 한계를 설명한 이유는 기존의 한계나 단점을 딥러닝이 멋지게 해결했기 때문이다.  앞서 설명한 피드 포워드(feed-forward) 신경망 그리고 임베딩으로 단어를 실수 벡터 공간으로 사영할 수 있게 되어 데이터 희소화 문제를 해결했으며, 더 나아가 일반화를 꾀할 수 있었다. 예를 들어 \"빨간 자동차\"가 코퍼스에 없다 하더라도 \"빨간\", \"자동차\" 두 단어의 임베딩 벡터를 평균하여 \"빨간 자동차\"의 벡터를 생성할 수 있을 것이다.  또한 RNN으로 장기 문맥 정보를 반영하는게 용이해졌다. 물론 RNN이 시퀀스가 길어질때 그래디언트 소실문제가 있었으나, LSTM이나 GRU로 상당부분 해결이 되었다. 게다가 기존의 비지도학습 기반의 언어모델 생성을 신경망 기반의 지도학습으로 변화시켰다.\n",
    "\n",
    "몇마디 문장으로 기존 언어모델에서 신경망 언어모델로의 변화 특징을 기술했지만, 이 부분의 기술진보 역사가 짧은편은 아니다. 여기서는 모든 변화를 설명하기 보다는 위 단점을 해소한 하나의 신경망 언어모델을 GluonNLP를 이용해 살펴보고 몇가지 다은 언어모델을 전이학습으로 활용해보는 방법을 설명하도록 하겠다. \n",
    "\n",
    "신경망 언어모델로 오게 되면서 언어모델 자체로서의 의미보다는 다양한 NLP관련 모형을 만들때 임베딩과 함게 핵심적인 역할을 수행하는 딥러닝 컴포넌트의 역할을 수행하게 되었으며, 이 때문에 범용적인 다양한 언어모델이 제안되었고 이를 기반으로 한 전이학습 등으로 기계번역 등의 영역에서 성능향상을 이뤄왔다. 따라서 직접 언어모델을 생성하거나 혹은 잘 만들어진 언어모델을 사용하여 목적에 맞는 모형을 생성하는 경험은 앞으로 NLP의 영역의 어플리케이션을 만드는데 큰 도움이 될 것이다. "
   ]
  },
  {
   "cell_type": "code",
   "execution_count": 1,
   "metadata": {},
   "outputs": [],
   "source": [
    "import mxnet as mx\n",
    "import gluonnlp as nlp\n",
    "from mxnet.gluon import nn, rnn\n",
    "import numpy as np\n",
    "import mxnet as mx\n",
    "from mxnet import nd, gluon, autograd\n",
    "import itertools\n",
    "from tqdm import tqdm\n",
    "import time\n",
    "import multiprocessing as mp\n"
   ]
  },
  {
   "cell_type": "code",
   "execution_count": 2,
   "metadata": {},
   "outputs": [],
   "source": [
    "#https://github.com/keras-team/keras/blob/master/examples/lstm_text_generation.py"
   ]
  },
  {
   "cell_type": "code",
   "execution_count": 3,
   "metadata": {},
   "outputs": [],
   "source": [
    "#!curl https://raw.githubusercontent.com/yxtay/char-rnn-text-generation/master/data/tinyshakespeare.txt --output tinyshakespeare.txt "
   ]
  },
  {
   "cell_type": "code",
   "execution_count": 2,
   "metadata": {},
   "outputs": [
    {
     "name": "stdout",
     "output_type": "stream",
     "text": [
      "First Citizen:\n",
      "Before we proceed any further, hear me speak.\n",
      "\n",
      "All:\n",
      "Speak, speak.\n",
      "\n",
      "First Citizen:\n",
      "You are all resolved rather to die than to famish?\n",
      "\n",
      "All:\n"
     ]
    }
   ],
   "source": [
    "!head tinyshakespeare.txt"
   ]
  },
  {
   "cell_type": "code",
   "execution_count": 3,
   "metadata": {},
   "outputs": [],
   "source": [
    "!head -35000 tinyshakespeare.txt > tinyshakespeare_train.txt"
   ]
  },
  {
   "cell_type": "code",
   "execution_count": 4,
   "metadata": {},
   "outputs": [],
   "source": [
    "!tail -4999 tinyshakespeare.txt > tinyshakespeare_test.txt"
   ]
  },
  {
   "cell_type": "code",
   "execution_count": 4,
   "metadata": {},
   "outputs": [],
   "source": [
    "corpus_train = list(itertools.chain.from_iterable(open('tinyshakespeare_train.txt', 'rt')))\n",
    "corpus_test = list(itertools.chain.from_iterable(open('tinyshakespeare_test.txt', 'rt')))"
   ]
  },
  {
   "cell_type": "code",
   "execution_count": 5,
   "metadata": {},
   "outputs": [],
   "source": [
    "batch_size = 30\n",
    "seq_size = 35"
   ]
  },
  {
   "cell_type": "code",
   "execution_count": 6,
   "metadata": {},
   "outputs": [],
   "source": [
    "counter = nlp.data.Counter(corpus_train)\n",
    "vocab = nlp.Vocab(counter, unknown_token='<unk>',  min_freq=5)"
   ]
  },
  {
   "cell_type": "code",
   "execution_count": 7,
   "metadata": {},
   "outputs": [],
   "source": [
    "#Language Model 학습을 위한 학습셋을 생성하기 위한 함수 \n",
    "#주의 (seq_len, batch_size) 형태의 데이터 배치를 생성한다. \n",
    "bptt_bfy = nlp.data.batchify.CorpusBPTTBatchify(vocab, seq_size, batch_size, last_batch='discard')"
   ]
  },
  {
   "cell_type": "code",
   "execution_count": 8,
   "metadata": {},
   "outputs": [],
   "source": [
    "#bptt_bfy는 list를 입력받고, mxnet.gluon.data.SimpleDataset 객체를 리턴하는 함수\n",
    "\n",
    "train_data, test_data = [bptt_bfy(d) for d in (corpus_train, corpus_test)]"
   ]
  },
  {
   "cell_type": "code",
   "execution_count": 9,
   "metadata": {},
   "outputs": [
    {
     "name": "stdout",
     "output_type": "stream",
     "text": [
      "input : \n",
      "First Citizen:\n",
      "Before we proceed an\n",
      "output : \n",
      "irst Citizen:\n",
      "Before we proceed any\n",
      "input : \n",
      "y further, hear me speak.\n",
      "\n",
      "All:\n",
      "Spe\n",
      "output : \n",
      " further, hear me speak.\n",
      "\n",
      "All:\n",
      "Spea\n",
      "input : \n",
      "ak, speak.\n",
      "\n",
      "First Citizen:\n",
      "You are \n",
      "output : \n",
      "k, speak.\n",
      "\n",
      "First Citizen:\n",
      "You are a\n",
      "input : \n",
      "all resolved rather to die than to \n",
      "output : \n",
      "ll resolved rather to die than to f\n"
     ]
    }
   ],
   "source": [
    "it = 0 \n",
    "for i,j in train_data:\n",
    "    #각 배치의 첫번째 데이터를 출력한다. \n",
    "    print('input : \\n'+ ''.join([vocab.idx_to_token[a] for a in i[:,0].asnumpy().astype('int')]))\n",
    "    print('output : \\n'+ ''.join([vocab.idx_to_token[a] for a in j[:,0].asnumpy().astype('int')]))\n",
    "    it += 1\n",
    "    if it > 3:\n",
    "        break"
   ]
  },
  {
   "cell_type": "code",
   "execution_count": 10,
   "metadata": {},
   "outputs": [],
   "source": [
    "class StandardLM(nn.HybridBlock):\n",
    "    \n",
    "    def __init__(self, vocab_size, embed_size, hidden_size):\n",
    "        super(StandardLM, self).__init__()\n",
    "        self.vocab_size = vocab_size\n",
    "        self.embed_size = embed_size \n",
    "        self.hidden_size = hidden_size \n",
    "\n",
    "        with self.name_scope():        \n",
    "            self.embedding = nn.Embedding(input_dim=self.vocab_size, output_dim=self.embed_size)\n",
    "            self.drop = nn.Dropout(0.2)\n",
    "            self.encoder = rnn.LSTM(hidden_size=hidden_size, num_layers=2, dropout=0.2)\n",
    "            self.decoder = nn.Dense(self.vocab_size, flatten=False)\n",
    "        \n",
    "    def hybrid_forward(self, F, x, hidden):\n",
    "        embed = self.drop(self.embedding(x))\n",
    "        lstm_out, hidden_o = self.encoder(embed, hidden)\n",
    "        return(self.decoder(lstm_out), hidden_o)\n",
    "    \n",
    "    def begin_state(self, *args, **kwargs):\n",
    "        return(self.encoder.begin_state(*args, **kwargs))\n"
   ]
  },
  {
   "cell_type": "code",
   "execution_count": 22,
   "metadata": {},
   "outputs": [],
   "source": [
    "ctx = mx.gpu()"
   ]
  },
  {
   "cell_type": "code",
   "execution_count": 23,
   "metadata": {},
   "outputs": [],
   "source": [
    "vocab_size = len(vocab.idx_to_token)\n",
    "model = StandardLM(vocab_size, embed_size=200, hidden_size=200)"
   ]
  },
  {
   "cell_type": "code",
   "execution_count": 24,
   "metadata": {},
   "outputs": [],
   "source": [
    "model.initialize(mx.init.Xavier(), ctx=ctx)\n",
    "trainer = gluon.Trainer(model.collect_params(), 'adam')\n",
    "loss = gluon.loss.SoftmaxCrossEntropyLoss()"
   ]
  },
  {
   "cell_type": "code",
   "execution_count": 25,
   "metadata": {},
   "outputs": [
    {
     "data": {
      "text/plain": [
       "StandardLM(\n",
       "  (decoder): Dense(None -> 67, linear)\n",
       "  (encoder): LSTM(None -> 200, TNC, num_layers=2, dropout=0.2)\n",
       "  (drop): Dropout(p = 0.2, axes=())\n",
       "  (embedding): Embedding(67 -> 200, float32)\n",
       ")"
      ]
     },
     "execution_count": 25,
     "metadata": {},
     "output_type": "execute_result"
    }
   ],
   "source": [
    "model"
   ]
  },
  {
   "cell_type": "code",
   "execution_count": 26,
   "metadata": {},
   "outputs": [],
   "source": [
    "def evaluate(model, data_source, batch_size, ctx):\n",
    "    total_L = 0.0\n",
    "    ntotal = 0\n",
    "    hidden = model.begin_state(batch_size, func=nd.zeros, ctx=ctx)\n",
    "    for i, (data, target) in enumerate(data_source):\n",
    "        data = data.as_in_context(ctx)\n",
    "        target = target.as_in_context(ctx)\n",
    "        output, hidden = model(data, hidden)\n",
    "        hidden = [h.detach() for h in hidden]\n",
    "        L = loss(output, target)\n",
    "        total_L += nd.sum(L).asscalar()\n",
    "        ntotal += L.size\n",
    "    return(total_L / ntotal)"
   ]
  },
  {
   "cell_type": "markdown",
   "metadata": {},
   "source": [
    "## Perplexity : $\\exp^{- \\frac{1}{n} \\sum_{i=1}^n \\log_2LM(w_i|w_{1:i-1})}$"
   ]
  },
  {
   "cell_type": "code",
   "execution_count": 27,
   "metadata": {},
   "outputs": [],
   "source": [
    "def eval_perplexity(model, data, batch_size, ctx):\n",
    "    perp = mx.metric.Perplexity(ignore_label=None)\n",
    "    hidden = model.begin_state(batch_size, func=nd.zeros, ctx=ctx)\n",
    "    for i, (data, target) in enumerate(data):\n",
    "        data = data.as_in_context(ctx)\n",
    "        target = target.as_in_context(ctx)\n",
    "        output, hidden = model(data, hidden)\n",
    "        hidden = [h.detach() for h in hidden]\n",
    "        perp.update(target, output)\n",
    "    return(perp.get()[1])"
   ]
  },
  {
   "cell_type": "code",
   "execution_count": 28,
   "metadata": {},
   "outputs": [],
   "source": [
    "def train(model, train_data, epochs):\n",
    "    start_train_time = time.time()\n",
    "    Ltr = []\n",
    "    Lte = []\n",
    "    perp = []\n",
    "    for epoch in range(epochs):\n",
    "        hidden = model.begin_state(batch_size, func=nd.zeros, ctx=ctx)\n",
    "        L = []\n",
    "        for i, (data, target) in enumerate(tqdm(train_data)):\n",
    "            data = data.as_in_context(ctx)\n",
    "            target = target.as_in_context(ctx)\n",
    "            hidden = [h.detach() for h in hidden]\n",
    "            with autograd.record():\n",
    "                output, hidden = model(data, hidden)\n",
    "                batch_L = loss(output, target)\n",
    "                L.append(batch_L.asnumpy())\n",
    "            batch_L.backward()\n",
    "            trainer.step(data.shape[1])\n",
    "        test_loss = evaluate(model, test_data, batch_size, ctx)  \n",
    "        train_loss = np.array(L).mean()\n",
    "        perplexity = eval_perplexity(model, test_data, batch_size, ctx)\n",
    "        \n",
    "        Ltr.append(train_loss)\n",
    "        Lte.append(test_loss)\n",
    "        perp.append(perplexity)\n",
    "        print('epoch : {} ;train loss : {} ;test loss : {} ; test perplexity  : {}'.format(epoch, train_loss, test_loss, perplexity))  \n",
    "    return(Ltr, Lte, perp)"
   ]
  },
  {
   "cell_type": "code",
   "execution_count": 29,
   "metadata": {},
   "outputs": [
    {
     "name": "stderr",
     "output_type": "stream",
     "text": [
      "100%|██████████| 942/942 [00:34<00:00, 27.56it/s]\n",
      "  0%|          | 3/942 [00:00<00:32, 29.33it/s]"
     ]
    },
    {
     "name": "stdout",
     "output_type": "stream",
     "text": [
      "epoch : 0 ;train loss : 2.156374931335449 ;test loss : 1.8512018540326287 ; test perplexity  : 0.24608353309974376\n"
     ]
    },
    {
     "name": "stderr",
     "output_type": "stream",
     "text": [
      "100%|██████████| 942/942 [00:34<00:00, 27.67it/s]\n",
      "  0%|          | 3/942 [00:00<00:32, 29.27it/s]"
     ]
    },
    {
     "name": "stdout",
     "output_type": "stream",
     "text": [
      "epoch : 1 ;train loss : 1.6528326272964478 ;test loss : 1.728211059203955 ; test perplexity  : 0.21636880666643651\n"
     ]
    },
    {
     "name": "stderr",
     "output_type": "stream",
     "text": [
      "100%|██████████| 942/942 [00:34<00:00, 27.69it/s]\n",
      "  0%|          | 3/942 [00:00<00:31, 29.66it/s]"
     ]
    },
    {
     "name": "stdout",
     "output_type": "stream",
     "text": [
      "epoch : 2 ;train loss : 1.5264644622802734 ;test loss : 1.651648197425943 ; test perplexity  : 0.20110196464653254\n"
     ]
    },
    {
     "name": "stderr",
     "output_type": "stream",
     "text": [
      "100%|██████████| 942/942 [00:34<00:00, 27.62it/s]\n",
      "  0%|          | 3/942 [00:00<00:31, 29.60it/s]"
     ]
    },
    {
     "name": "stdout",
     "output_type": "stream",
     "text": [
      "epoch : 3 ;train loss : 1.461790680885315 ;test loss : 1.6216540067565113 ; test perplexity  : 0.1923264080602213\n"
     ]
    },
    {
     "name": "stderr",
     "output_type": "stream",
     "text": [
      "100%|██████████| 942/942 [00:34<00:00, 27.68it/s]\n",
      "  0%|          | 3/942 [00:00<00:31, 29.53it/s]"
     ]
    },
    {
     "name": "stdout",
     "output_type": "stream",
     "text": [
      "epoch : 4 ;train loss : 1.4215331077575684 ;test loss : 1.594846079300861 ; test perplexity  : 0.18675702921171003\n"
     ]
    },
    {
     "name": "stderr",
     "output_type": "stream",
     "text": [
      "100%|██████████| 942/942 [00:34<00:00, 27.63it/s]\n",
      "  0%|          | 3/942 [00:00<00:31, 29.50it/s]"
     ]
    },
    {
     "name": "stdout",
     "output_type": "stream",
     "text": [
      "epoch : 5 ;train loss : 1.3917092084884644 ;test loss : 1.5759037324646656 ; test perplexity  : 0.18042122783385314\n"
     ]
    },
    {
     "name": "stderr",
     "output_type": "stream",
     "text": [
      "100%|██████████| 942/942 [00:34<00:00, 27.66it/s]\n",
      "  0%|          | 3/942 [00:00<00:32, 29.26it/s]"
     ]
    },
    {
     "name": "stdout",
     "output_type": "stream",
     "text": [
      "epoch : 6 ;train loss : 1.3699151277542114 ;test loss : 1.5627451975663311 ; test perplexity  : 0.1768341563087865\n"
     ]
    },
    {
     "name": "stderr",
     "output_type": "stream",
     "text": [
      "100%|██████████| 942/942 [00:34<00:00, 27.68it/s]\n",
      "  0%|          | 3/942 [00:00<00:31, 29.62it/s]"
     ]
    },
    {
     "name": "stdout",
     "output_type": "stream",
     "text": [
      "epoch : 7 ;train loss : 1.3523614406585693 ;test loss : 1.5570270149075256 ; test perplexity  : 0.17533362161928318\n"
     ]
    },
    {
     "name": "stderr",
     "output_type": "stream",
     "text": [
      "100%|██████████| 942/942 [00:34<00:00, 27.69it/s]\n",
      "  0%|          | 3/942 [00:00<00:32, 29.33it/s]"
     ]
    },
    {
     "name": "stdout",
     "output_type": "stream",
     "text": [
      "epoch : 8 ;train loss : 1.338131308555603 ;test loss : 1.54912386524434 ; test perplexity  : 0.17326621894500038\n"
     ]
    },
    {
     "name": "stderr",
     "output_type": "stream",
     "text": [
      "100%|██████████| 942/942 [00:34<00:00, 27.61it/s]\n",
      "  0%|          | 3/942 [00:00<00:31, 29.64it/s]"
     ]
    },
    {
     "name": "stdout",
     "output_type": "stream",
     "text": [
      "epoch : 9 ;train loss : 1.3263251781463623 ;test loss : 1.5399158802925468 ; test perplexity  : 0.17160997756820048\n"
     ]
    },
    {
     "name": "stderr",
     "output_type": "stream",
     "text": [
      "100%|██████████| 942/942 [00:34<00:00, 27.61it/s]\n",
      "  0%|          | 3/942 [00:00<00:31, 29.63it/s]"
     ]
    },
    {
     "name": "stdout",
     "output_type": "stream",
     "text": [
      "epoch : 10 ;train loss : 1.3157912492752075 ;test loss : 1.5476586294918357 ; test perplexity  : 0.1685901722689627\n"
     ]
    },
    {
     "name": "stderr",
     "output_type": "stream",
     "text": [
      "100%|██████████| 942/942 [00:34<00:00, 27.62it/s]\n",
      "  0%|          | 3/942 [00:00<00:31, 29.63it/s]"
     ]
    },
    {
     "name": "stdout",
     "output_type": "stream",
     "text": [
      "epoch : 11 ;train loss : 1.30707585811615 ;test loss : 1.544392904256429 ; test perplexity  : 0.1674097528826944\n"
     ]
    },
    {
     "name": "stderr",
     "output_type": "stream",
     "text": [
      "100%|██████████| 942/942 [00:34<00:00, 27.62it/s]\n",
      "  0%|          | 3/942 [00:00<00:31, 29.63it/s]"
     ]
    },
    {
     "name": "stdout",
     "output_type": "stream",
     "text": [
      "epoch : 12 ;train loss : 1.2990243434906006 ;test loss : 1.546013604721674 ; test perplexity  : 0.16573490194632112\n"
     ]
    },
    {
     "name": "stderr",
     "output_type": "stream",
     "text": [
      "100%|██████████| 942/942 [00:34<00:00, 27.64it/s]\n",
      "  0%|          | 3/942 [00:00<00:33, 27.97it/s]"
     ]
    },
    {
     "name": "stdout",
     "output_type": "stream",
     "text": [
      "epoch : 13 ;train loss : 1.29240882396698 ;test loss : 1.5487839358765967 ; test perplexity  : 0.16493288015760948\n"
     ]
    },
    {
     "name": "stderr",
     "output_type": "stream",
     "text": [
      "100%|██████████| 942/942 [00:34<00:00, 27.67it/s]\n",
      "  0%|          | 3/942 [00:00<00:31, 29.46it/s]"
     ]
    },
    {
     "name": "stdout",
     "output_type": "stream",
     "text": [
      "epoch : 14 ;train loss : 1.2858871221542358 ;test loss : 1.5513646046797624 ; test perplexity  : 0.16403128751397722\n"
     ]
    },
    {
     "name": "stderr",
     "output_type": "stream",
     "text": [
      "100%|██████████| 942/942 [00:34<00:00, 27.65it/s]\n",
      "  0%|          | 3/942 [00:00<00:31, 29.88it/s]"
     ]
    },
    {
     "name": "stdout",
     "output_type": "stream",
     "text": [
      "epoch : 15 ;train loss : 1.2802140712738037 ;test loss : 1.5407149142005434 ; test perplexity  : 0.16295455487812738\n"
     ]
    },
    {
     "name": "stderr",
     "output_type": "stream",
     "text": [
      "100%|██████████| 942/942 [00:34<00:00, 27.66it/s]\n",
      "  0%|          | 3/942 [00:00<00:31, 29.57it/s]"
     ]
    },
    {
     "name": "stdout",
     "output_type": "stream",
     "text": [
      "epoch : 16 ;train loss : 1.275181531906128 ;test loss : 1.5456598838265776 ; test perplexity  : 0.1635148370276148\n"
     ]
    },
    {
     "name": "stderr",
     "output_type": "stream",
     "text": [
      "100%|██████████| 942/942 [00:34<00:00, 27.70it/s]\n",
      "  0%|          | 3/942 [00:00<00:33, 28.27it/s]"
     ]
    },
    {
     "name": "stdout",
     "output_type": "stream",
     "text": [
      "epoch : 17 ;train loss : 1.2707302570343018 ;test loss : 1.54494518541059 ; test perplexity  : 0.16020340415765802\n"
     ]
    },
    {
     "name": "stderr",
     "output_type": "stream",
     "text": [
      "100%|██████████| 942/942 [00:34<00:00, 27.65it/s]\n",
      "  0%|          | 3/942 [00:00<00:31, 29.80it/s]"
     ]
    },
    {
     "name": "stdout",
     "output_type": "stream",
     "text": [
      "epoch : 18 ;train loss : 1.2668492794036865 ;test loss : 1.544065261602688 ; test perplexity  : 0.16174261436688117\n"
     ]
    },
    {
     "name": "stderr",
     "output_type": "stream",
     "text": [
      "100%|██████████| 942/942 [00:34<00:00, 27.62it/s]\n"
     ]
    },
    {
     "name": "stdout",
     "output_type": "stream",
     "text": [
      "epoch : 19 ;train loss : 1.262573003768921 ;test loss : 1.5449989025761672 ; test perplexity  : 0.16110228806388893\n"
     ]
    }
   ],
   "source": [
    "train_loss, test_loss, perplexity = train(model, train_data, 20)"
   ]
  },
  {
   "cell_type": "code",
   "execution_count": 30,
   "metadata": {},
   "outputs": [],
   "source": [
    "import pandas as pd"
   ]
  },
  {
   "cell_type": "code",
   "execution_count": 31,
   "metadata": {},
   "outputs": [],
   "source": [
    "%matplotlib inline"
   ]
  },
  {
   "cell_type": "code",
   "execution_count": 32,
   "metadata": {},
   "outputs": [
    {
     "data": {
      "text/plain": [
       "<matplotlib.axes._subplots.AxesSubplot at 0x7fb002407be0>"
      ]
     },
     "execution_count": 32,
     "metadata": {},
     "output_type": "execute_result"
    },
    {
     "data": {
      "image/png": "[encoded data removed]",
      "text/plain": [
       "<Figure size 432x288 with 1 Axes>"
      ]
     },
     "metadata": {},
     "output_type": "display_data"
    }
   ],
   "source": [
    "pd.DataFrame({\"train_loss\":train_loss, \"test_loss\":test_loss}).plot()"
   ]
  },
  {
   "cell_type": "code",
   "execution_count": 33,
   "metadata": {},
   "outputs": [],
   "source": [
    "def text_generation(txt_seq, model, vocab):\n",
    "    txt_seq = list(txt_seq) \n",
    "    hidden = model.begin_state(batch_size=1, func=nd.zeros, ctx=ctx)\n",
    "    i = 0\n",
    "    char_seq = []\n",
    "    with autograd.record(train_mode=False):\n",
    "        for tkn in txt_seq:\n",
    "            res, hidden = model(nd.array([[vocab[tkn],]]).as_in_context(ctx), hidden)\n",
    "            tkn = tkn\n",
    "            char_seq.append(tkn)\n",
    "        while tkn != '<eos>':\n",
    "            i += 1\n",
    "            res, hidden = model(nd.array([[vocab[tkn],]]).as_in_context(ctx), hidden)\n",
    "            tkn = vocab.idx_to_token[nd.argmax(res, axis=2).asnumpy().flatten()[0].astype('int')]\n",
    "            char_seq.append(tkn)\n",
    "            if i > 150:\n",
    "                break\n",
    "    return(\"\".join(char_seq))        "
   ]
  },
  {
   "cell_type": "code",
   "execution_count": 34,
   "metadata": {},
   "outputs": [
    {
     "data": {
      "text/plain": [
       "'You are all resolved rather aport\\nThat we have seen the world and the devil and death,\\nAnd therefore have seen the world and the devil\\nThat we have seen the world and the devil an'"
      ]
     },
     "execution_count": 34,
     "metadata": {},
     "output_type": "execute_result"
    }
   ],
   "source": [
    "text_generation(\"You are all resolved rather \", model, vocab)"
   ]
  },
  {
   "cell_type": "code",
   "execution_count": null,
   "metadata": {},
   "outputs": [],
   "source": [
    "nlp.model.awd_lstm_lm_1150"
   ]
  },
  {
   "cell_type": "code",
   "execution_count": 40,
   "metadata": {},
   "outputs": [
    {
     "name": "stdout",
     "output_type": "stream",
     "text": [
      "AWDRNN(\n",
      "  (encoder): Sequential(\n",
      "    (0): LSTM(400 -> 1150, TNC)\n",
      "    (1): LSTM(1150 -> 1150, TNC)\n",
      "    (2): LSTM(1150 -> 400, TNC)\n",
      "  )\n",
      "  (embedding): HybridSequential(\n",
      "    (0): Embedding(33278 -> 400, float32)\n",
      "    (1): Dropout(p = 0.65, axes=(0,))\n",
      "  )\n",
      "  (decoder): HybridSequential(\n",
      "    (0): Dense(400 -> 33278, linear)\n",
      "  )\n",
      ")\n",
      "Vocab(size=33278, unk=\"<unk>\", reserved=\"['<eos>']\")\n"
     ]
    }
   ],
   "source": [
    "awd_model_name = 'awd_lstm_lm_1150'\n",
    "dataset_name = 'wikitext-2'\n",
    "awd_model, vocab = nlp.model.get_model(\n",
    "    awd_model_name,\n",
    "    dataset_name=dataset_name,\n",
    "    pretrained=True,\n",
    "    ctx=mx.gpu())\n",
    "print(awd_model)\n",
    "print(vocab)"
   ]
  },
  {
   "cell_type": "code",
   "execution_count": null,
   "metadata": {},
   "outputs": [],
   "source": []
  }
 ],
 "metadata": {
  "kernelspec": {
   "display_name": "Python 3",
   "language": "python",
   "name": "python3"
  },
  "language_info": {
   "codemirror_mode": {
    "name": "ipython",
    "version": 3
   },
   "file_extension": ".py",
   "mimetype": "text/x-python",
   "name": "python",
   "nbconvert_exporter": "python",
   "pygments_lexer": "ipython3",
   "version": "3.5.2"
  }
 },
 "nbformat": 4,
 "nbformat_minor": 2
}
