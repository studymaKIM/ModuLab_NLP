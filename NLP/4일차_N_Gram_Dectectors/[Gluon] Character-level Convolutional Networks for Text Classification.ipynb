{
 "cells": [
  {
   "cell_type": "code",
   "execution_count": 1,
   "metadata": {},
   "outputs": [],
   "source": [
    "## https://github.com/ThomasDelteil/TextClassificationCNN_MXNet/blob/master/Crepe-Gluon.ipynb"
   ]
  },
  {
   "cell_type": "code",
   "execution_count": 1,
   "metadata": {},
   "outputs": [],
   "source": [
    "import pickle\n",
    "import gzip"
   ]
  },
  {
   "cell_type": "code",
   "execution_count": 2,
   "metadata": {},
   "outputs": [],
   "source": [
    "with gzip.open('data_sets.pickle', 'r') as f:\n",
    "    data = pickle.load(f)"
   ]
  },
  {
   "cell_type": "code",
   "execution_count": 3,
   "metadata": {},
   "outputs": [],
   "source": [
    "import numpy as np"
   ]
  },
  {
   "cell_type": "code",
   "execution_count": 4,
   "metadata": {},
   "outputs": [],
   "source": [
    "## Shuffle"
   ]
  },
  {
   "cell_type": "code",
   "execution_count": 5,
   "metadata": {},
   "outputs": [],
   "source": [
    "np.random.seed(1234)\n",
    "shuffle_indices = np.random.permutation(np.arange(len(data)))\n",
    "data = data.iloc[shuffle_indices]"
   ]
  },
  {
   "cell_type": "code",
   "execution_count": null,
   "metadata": {},
   "outputs": [],
   "source": []
  },
  {
   "cell_type": "code",
   "execution_count": 6,
   "metadata": {},
   "outputs": [],
   "source": [
    "import mxnet as mx\n",
    "from mxnet import nd, autograd, gluon\n",
    "from mxnet.gluon.data import ArrayDataset\n",
    "from mxnet.gluon.data import DataLoader\n",
    "import numpy as np\n",
    "import multiprocessing"
   ]
  },
  {
   "cell_type": "code",
   "execution_count": null,
   "metadata": {},
   "outputs": [],
   "source": []
  },
  {
   "cell_type": "code",
   "execution_count": 7,
   "metadata": {},
   "outputs": [
    {
     "data": {
      "text/plain": [
       "array([  2.,  46.,  65.,  81.,  95., 109., 122., 138., 156., 179.])"
      ]
     },
     "execution_count": 7,
     "metadata": {},
     "output_type": "execute_result"
    }
   ],
   "source": [
    "np.percentile([len(i) for i in data.X], range(0, 100, 10))"
   ]
  },
  {
   "cell_type": "code",
   "execution_count": null,
   "metadata": {},
   "outputs": [],
   "source": []
  },
  {
   "cell_type": "code",
   "execution_count": 8,
   "metadata": {},
   "outputs": [],
   "source": [
    "ALPHABET = list(\"abcdefghijklmnopqrstuvwxyz0123456789-,;.!?:'\\\"/\\\\|_@#$%^&*~`+ =<>()[]{}\") # The 69 characters as specified in the paper\n",
    "ALPHABET_INDEX = {letter: index for index, letter in enumerate(ALPHABET)} # { a: 0, b: 1, etc}\n",
    "NUM_WORKERS = multiprocessing.cpu_count() - 1# number of workers used in the data loading\n",
    "BATCH_SIZE = 128 # number of documents per batch\n",
    "FEATURE_LEN = 150"
   ]
  },
  {
   "cell_type": "code",
   "execution_count": 9,
   "metadata": {},
   "outputs": [],
   "source": [
    "## Encoding"
   ]
  },
  {
   "cell_type": "code",
   "execution_count": 10,
   "metadata": {},
   "outputs": [],
   "source": [
    "def encode(text):\n",
    "    encoded = np.zeros([len(ALPHABET), FEATURE_LEN], dtype='float32')\n",
    "    review = text.lower()[:FEATURE_LEN-1:-1] ## 뒤에서 자름\n",
    "    i = 0\n",
    "    for letter in text:\n",
    "        if i >= FEATURE_LEN:\n",
    "            break;\n",
    "        if letter in ALPHABET_INDEX:\n",
    "            encoded[ALPHABET_INDEX[letter]][i] = 1 ## 출현하는 알파벳에 +1\n",
    "        i += 1\n",
    "    return encoded"
   ]
  },
  {
   "cell_type": "code",
   "execution_count": 11,
   "metadata": {},
   "outputs": [],
   "source": [
    "class MovieReviewDataSet(ArrayDataset):\n",
    "    # We pre-process the documents on the fly\n",
    "    def __getitem__(self, idx):\n",
    "        return encode(self._data[0][idx]), self._data[1][idx]"
   ]
  },
  {
   "cell_type": "code",
   "execution_count": 34,
   "metadata": {},
   "outputs": [],
   "source": [
    "split = 0.8\n",
    "split_index = int(split*len(data))\n",
    "train_data_X = data['X'][:split_index].values\n",
    "train_data_Y = data['Y'][:split_index].values\n",
    "test_data_X = data['X'][split_index:].values\n",
    "test_data_Y = data['Y'][split_index:].values\n",
    "train_dataset = MovieReviewDataSet(train_data_X, train_data_Y)\n",
    "test_dataset = MovieReviewDataSet(test_data_X, test_data_Y)"
   ]
  },
  {
   "cell_type": "code",
   "execution_count": null,
   "metadata": {},
   "outputs": [],
   "source": []
  },
  {
   "cell_type": "code",
   "execution_count": 35,
   "metadata": {},
   "outputs": [
    {
     "data": {
      "text/plain": [
       "'the script manages the rare trick of seeming at once both refreshingly different and reassuringly familiar'"
      ]
     },
     "execution_count": 35,
     "metadata": {},
     "output_type": "execute_result"
    }
   ],
   "source": [
    "train_data_X[0]"
   ]
  },
  {
   "cell_type": "code",
   "execution_count": 36,
   "metadata": {},
   "outputs": [
    {
     "data": {
      "text/plain": [
       "106"
      ]
     },
     "execution_count": 36,
     "metadata": {},
     "output_type": "execute_result"
    }
   ],
   "source": [
    "len(train_data_X[0])"
   ]
  },
  {
   "cell_type": "code",
   "execution_count": 37,
   "metadata": {},
   "outputs": [],
   "source": [
    "sam_encdoded = encode(train_data_X[0])"
   ]
  },
  {
   "cell_type": "code",
   "execution_count": 38,
   "metadata": {},
   "outputs": [
    {
     "data": {
      "text/plain": [
       "(69, 150)"
      ]
     },
     "execution_count": 38,
     "metadata": {},
     "output_type": "execute_result"
    }
   ],
   "source": [
    "np.shape(sam_encdoded) ## ALPHABET_LEN, FEATURE_LEN"
   ]
  },
  {
   "cell_type": "code",
   "execution_count": 39,
   "metadata": {},
   "outputs": [
    {
     "data": {
      "text/plain": [
       "array([0., 0., 0., 0., 0., 0., 0., 0., 0., 0., 0., 0., 1., 0., 1., 0., 0.,\n",
       "       0., 0., 0., 0., 0., 0., 0., 1., 0., 0., 0., 0., 0., 0., 0., 0., 0.,\n",
       "       0., 0., 0., 0., 0., 0., 0., 0., 0., 0., 0., 1., 0., 0., 0., 0., 0.,\n",
       "       0., 0., 0., 0., 0., 0., 0., 0., 0., 0., 0., 0., 0., 0., 0., 0., 0.,\n",
       "       0., 0., 0., 0., 0., 0., 0., 0., 0., 0., 0., 0., 0., 1., 0., 0., 0.,\n",
       "       0., 0., 1., 0., 0., 0., 0., 0., 0., 0., 0., 0., 0., 0., 1., 0., 0.,\n",
       "       0., 0., 1., 0., 0., 0., 0., 0., 0., 0., 0., 0., 0., 0., 0., 0., 0.,\n",
       "       0., 0., 0., 0., 0., 0., 0., 0., 0., 0., 0., 0., 0., 0., 0., 0., 0.,\n",
       "       0., 0., 0., 0., 0., 0., 0., 0., 0., 0., 0., 0., 0., 0.],\n",
       "      dtype=float32)"
      ]
     },
     "execution_count": 39,
     "metadata": {},
     "output_type": "execute_result"
    }
   ],
   "source": [
    "sam_encdoded[0]"
   ]
  },
  {
   "cell_type": "code",
   "execution_count": null,
   "metadata": {},
   "outputs": [],
   "source": []
  },
  {
   "cell_type": "code",
   "execution_count": 40,
   "metadata": {},
   "outputs": [
    {
     "data": {
      "text/plain": [
       "(array([ 12,  14,  24,  45,  81,  87,  99, 104]),)"
      ]
     },
     "execution_count": 40,
     "metadata": {},
     "output_type": "execute_result"
    }
   ],
   "source": [
    "np.where(sam_encdoded[0] == 1)"
   ]
  },
  {
   "cell_type": "code",
   "execution_count": 41,
   "metadata": {},
   "outputs": [
    {
     "data": {
      "text/plain": [
       "[12, 14, 24, 45, 81, 87, 99, 104]"
      ]
     },
     "execution_count": 41,
     "metadata": {},
     "output_type": "execute_result"
    }
   ],
   "source": [
    "[idx for idx, i in enumerate(train_data_X[0]) if i == 'a']"
   ]
  },
  {
   "cell_type": "code",
   "execution_count": null,
   "metadata": {},
   "outputs": [],
   "source": []
  },
  {
   "cell_type": "code",
   "execution_count": 42,
   "metadata": {},
   "outputs": [],
   "source": [
    "from collections import Counter"
   ]
  },
  {
   "cell_type": "code",
   "execution_count": 43,
   "metadata": {},
   "outputs": [
    {
     "data": {
      "text/plain": [
       "Counter({0: 4256, 1: 4273})"
      ]
     },
     "execution_count": 43,
     "metadata": {},
     "output_type": "execute_result"
    }
   ],
   "source": [
    "Counter(train_data_Y)"
   ]
  },
  {
   "cell_type": "code",
   "execution_count": 44,
   "metadata": {},
   "outputs": [
    {
     "data": {
      "text/plain": [
       "Counter({0: 1075, 1: 1058})"
      ]
     },
     "execution_count": 44,
     "metadata": {},
     "output_type": "execute_result"
    }
   ],
   "source": [
    "Counter(test_data_Y)"
   ]
  },
  {
   "cell_type": "code",
   "execution_count": null,
   "metadata": {},
   "outputs": [],
   "source": []
  },
  {
   "cell_type": "code",
   "execution_count": 24,
   "metadata": {},
   "outputs": [
    {
     "data": {
      "text/plain": [
       "(8529, 2)"
      ]
     },
     "execution_count": 24,
     "metadata": {},
     "output_type": "execute_result"
    }
   ],
   "source": [
    "np.shape(train_dataset)"
   ]
  },
  {
   "cell_type": "code",
   "execution_count": 25,
   "metadata": {},
   "outputs": [
    {
     "data": {
      "text/plain": [
       "(2133, 2)"
      ]
     },
     "execution_count": 25,
     "metadata": {},
     "output_type": "execute_result"
    }
   ],
   "source": [
    "np.shape(test_dataset)"
   ]
  },
  {
   "cell_type": "code",
   "execution_count": null,
   "metadata": {},
   "outputs": [],
   "source": []
  },
  {
   "cell_type": "code",
   "execution_count": 26,
   "metadata": {},
   "outputs": [],
   "source": [
    "BATCH_SIZE = 128"
   ]
  },
  {
   "cell_type": "code",
   "execution_count": 27,
   "metadata": {},
   "outputs": [],
   "source": [
    "train_dataloader = DataLoader(train_dataset, shuffle=True, batch_size=BATCH_SIZE, num_workers=NUM_WORKERS, last_batch='discard')"
   ]
  },
  {
   "cell_type": "code",
   "execution_count": 28,
   "metadata": {},
   "outputs": [],
   "source": [
    "test_dataloader = DataLoader(test_dataset, shuffle=True, batch_size=BATCH_SIZE, num_workers=NUM_WORKERS, last_batch='discard')"
   ]
  },
  {
   "cell_type": "code",
   "execution_count": 29,
   "metadata": {},
   "outputs": [],
   "source": [
    "categories = list(set(np.concatenate((train_data_Y, test_data_Y), axis=0)))"
   ]
  },
  {
   "cell_type": "code",
   "execution_count": 30,
   "metadata": {},
   "outputs": [],
   "source": [
    "NUM_FILTERS = 128 # number of convolutional filters per convolutional layer\n",
    "NUM_OUTPUTS = len(categories) # number of classes\n",
    "FULLY_CONNECTED = 100 # number of unit in the fully connected dense layer\n",
    "DROPOUT_RATE = 0.5 # probability of node drop out\n",
    "LEARNING_RATE = 0.01 # learning rate of the gradient\n",
    "MOMENTUM = 0.9 # momentum of the gradient\n",
    "WDECAY = 0.00001 # regularization term to limit size of weights"
   ]
  },
  {
   "cell_type": "code",
   "execution_count": 31,
   "metadata": {},
   "outputs": [],
   "source": [
    "net = gluon.nn.HybridSequential()\n",
    "with net.name_scope():\n",
    "    net.add(gluon.nn.Conv1D(channels=NUM_FILTERS, kernel_size=3, activation='relu'))\n",
    "    net.add(gluon.nn.MaxPool1D(pool_size=3, strides=1))\n",
    "    net.add(gluon.nn.Conv1D(channels=NUM_FILTERS, kernel_size=3, activation='relu'))\n",
    "    net.add(gluon.nn.MaxPool1D(pool_size=3, strides=1))\n",
    "    net.add(gluon.nn.Conv1D(channels=NUM_FILTERS, kernel_size=3, activation='relu'))\n",
    "    net.add(gluon.nn.Conv1D(channels=NUM_FILTERS, kernel_size=3, activation='relu'))\n",
    "    net.add(gluon.nn.Conv1D(channels=NUM_FILTERS, kernel_size=3, activation='relu'))\n",
    "    net.add(gluon.nn.Conv1D(channels=NUM_FILTERS, kernel_size=3, activation='relu'))\n",
    "    net.add(gluon.nn.Flatten())\n",
    "    net.add(gluon.nn.Dense(FULLY_CONNECTED, activation='relu', flatten=False))\n",
    "    net.add(gluon.nn.Dropout(DROPOUT_RATE))\n",
    "    net.add(gluon.nn.Dense(FULLY_CONNECTED, activation='relu'))\n",
    "    net.add(gluon.nn.Dropout(DROPOUT_RATE))\n",
    "    net.add(gluon.nn.Dense(NUM_OUTPUTS))"
   ]
  },
  {
   "cell_type": "code",
   "execution_count": null,
   "metadata": {},
   "outputs": [],
   "source": []
  },
  {
   "cell_type": "code",
   "execution_count": 32,
   "metadata": {
    "scrolled": true
   },
   "outputs": [
    {
     "name": "stdout",
     "output_type": "stream",
     "text": [
      "HybridSequential(\n",
      "  (0): Conv1D(None -> 128, kernel_size=(3,), stride=(1,), Activation(relu))\n",
      "  (1): MaxPool1D(size=(3,), stride=(1,), padding=(0,), ceil_mode=False)\n",
      "  (2): Conv1D(None -> 128, kernel_size=(3,), stride=(1,), Activation(relu))\n",
      "  (3): MaxPool1D(size=(3,), stride=(1,), padding=(0,), ceil_mode=False)\n",
      "  (4): Conv1D(None -> 128, kernel_size=(3,), stride=(1,), Activation(relu))\n",
      "  (5): Conv1D(None -> 128, kernel_size=(3,), stride=(1,), Activation(relu))\n",
      "  (6): Conv1D(None -> 128, kernel_size=(3,), stride=(1,), Activation(relu))\n",
      "  (7): Conv1D(None -> 128, kernel_size=(3,), stride=(1,), Activation(relu))\n",
      "  (8): Flatten\n",
      "  (9): Dense(None -> 100, Activation(relu))\n",
      "  (10): Dropout(p = 0.5, axes=())\n",
      "  (11): Dense(None -> 100, Activation(relu))\n",
      "  (12): Dropout(p = 0.5, axes=())\n",
      "  (13): Dense(None -> 2, linear)\n",
      ")\n"
     ]
    }
   ],
   "source": [
    "print(net)"
   ]
  },
  {
   "cell_type": "code",
   "execution_count": 33,
   "metadata": {},
   "outputs": [],
   "source": [
    "net.hybridize()"
   ]
  },
  {
   "cell_type": "code",
   "execution_count": 34,
   "metadata": {},
   "outputs": [],
   "source": [
    "shape = (1, 69, 150)"
   ]
  },
  {
   "cell_type": "code",
   "execution_count": 35,
   "metadata": {},
   "outputs": [
    {
     "data": {
      "image/svg+xml": [
       "<?xml version=\"1.0\" encoding=\"UTF-8\" standalone=\"no\"?>\n",
       "<!DOCTYPE svg PUBLIC \"-//W3C//DTD SVG 1.1//EN\"\n",
       " \"http://www.w3.org/Graphics/SVG/1.1/DTD/svg11.dtd\">\n",
       "<!-- Generated by graphviz version 2.38.0 (20140413.2041)\n",
       " -->\n",
       "<!-- Title: plot Pages: 1 -->\n",
       "<svg width=\"103pt\" height=\"2464pt\"\n",
       " viewBox=\"0.00 0.00 103.00 2464.00\" xmlns=\"http://www.w3.org/2000/svg\" xmlns:xlink=\"http://www.w3.org/1999/xlink\">\n",
       "<g id=\"graph0\" class=\"graph\" transform=\"scale(1 1) rotate(0) translate(4 2460)\">\n",
       "<title>plot</title>\n",
       "<polygon fill=\"white\" stroke=\"none\" points=\"-4,4 -4,-2460 99,-2460 99,4 -4,4\"/>\n",
       "<!-- data -->\n",
       "<g id=\"node1\" class=\"node\"><title>data</title>\n",
       "<ellipse fill=\"#8dd3c7\" stroke=\"black\" cx=\"47\" cy=\"-29\" rx=\"47\" ry=\"29\"/>\n",
       "<text text-anchor=\"middle\" x=\"47\" y=\"-25.3\" font-family=\"Times,serif\" font-size=\"14.00\">data</text>\n",
       "</g>\n",
       "<!-- hybridsequential0_conv0_fwd -->\n",
       "<g id=\"node2\" class=\"node\"><title>hybridsequential0_conv0_fwd</title>\n",
       "<polygon fill=\"#fb8072\" stroke=\"black\" points=\"94,-167 -7.10543e-15,-167 -7.10543e-15,-109 94,-109 94,-167\"/>\n",
       "<text text-anchor=\"middle\" x=\"47\" y=\"-141.8\" font-family=\"Times,serif\" font-size=\"14.00\">Convolution</text>\n",
       "<text text-anchor=\"middle\" x=\"47\" y=\"-126.8\" font-family=\"Times,serif\" font-size=\"14.00\">3/1, 128</text>\n",
       "</g>\n",
       "<!-- hybridsequential0_conv0_fwd&#45;&gt;data -->\n",
       "<g id=\"edge1\" class=\"edge\"><title>hybridsequential0_conv0_fwd&#45;&gt;data</title>\n",
       "<path fill=\"none\" stroke=\"black\" d=\"M47,-98.5824C47,-85.2841 47,-70.632 47,-58.2967\"/>\n",
       "<polygon fill=\"black\" stroke=\"black\" points=\"47,-108.887 42.5001,-98.887 47,-103.887 47.0001,-98.887 47.0001,-98.887 47.0001,-98.887 47,-103.887 51.5001,-98.8871 47,-108.887 47,-108.887\"/>\n",
       "<text text-anchor=\"middle\" x=\"67.5\" y=\"-79.8\" font-family=\"Times,serif\" font-size=\"14.00\">69x150</text>\n",
       "</g>\n",
       "<!-- hybridsequential0_conv0_relu_fwd -->\n",
       "<g id=\"node3\" class=\"node\"><title>hybridsequential0_conv0_relu_fwd</title>\n",
       "<polygon fill=\"#ffffb3\" stroke=\"black\" points=\"94,-276 -7.10543e-15,-276 -7.10543e-15,-218 94,-218 94,-276\"/>\n",
       "<text text-anchor=\"middle\" x=\"47\" y=\"-250.8\" font-family=\"Times,serif\" font-size=\"14.00\">Activation</text>\n",
       "<text text-anchor=\"middle\" x=\"47\" y=\"-235.8\" font-family=\"Times,serif\" font-size=\"14.00\">relu</text>\n",
       "</g>\n",
       "<!-- hybridsequential0_conv0_relu_fwd&#45;&gt;hybridsequential0_conv0_fwd -->\n",
       "<g id=\"edge2\" class=\"edge\"><title>hybridsequential0_conv0_relu_fwd&#45;&gt;hybridsequential0_conv0_fwd</title>\n",
       "<path fill=\"none\" stroke=\"black\" d=\"M47,-207.582C47,-194.284 47,-179.632 47,-167.297\"/>\n",
       "<polygon fill=\"black\" stroke=\"black\" points=\"47,-217.887 42.5001,-207.887 47,-212.887 47.0001,-207.887 47.0001,-207.887 47.0001,-207.887 47,-212.887 51.5001,-207.887 47,-217.887 47,-217.887\"/>\n",
       "<text text-anchor=\"middle\" x=\"71\" y=\"-188.8\" font-family=\"Times,serif\" font-size=\"14.00\">128x148</text>\n",
       "</g>\n",
       "<!-- hybridsequential0_pool0_fwd -->\n",
       "<g id=\"node4\" class=\"node\"><title>hybridsequential0_pool0_fwd</title>\n",
       "<polygon fill=\"#80b1d3\" stroke=\"black\" points=\"94,-385 -7.10543e-15,-385 -7.10543e-15,-327 94,-327 94,-385\"/>\n",
       "<text text-anchor=\"middle\" x=\"47\" y=\"-359.8\" font-family=\"Times,serif\" font-size=\"14.00\">Pooling</text>\n",
       "<text text-anchor=\"middle\" x=\"47\" y=\"-344.8\" font-family=\"Times,serif\" font-size=\"14.00\">max, 3/1</text>\n",
       "</g>\n",
       "<!-- hybridsequential0_pool0_fwd&#45;&gt;hybridsequential0_conv0_relu_fwd -->\n",
       "<g id=\"edge3\" class=\"edge\"><title>hybridsequential0_pool0_fwd&#45;&gt;hybridsequential0_conv0_relu_fwd</title>\n",
       "<path fill=\"none\" stroke=\"black\" d=\"M47,-316.582C47,-303.284 47,-288.632 47,-276.297\"/>\n",
       "<polygon fill=\"black\" stroke=\"black\" points=\"47,-326.887 42.5001,-316.887 47,-321.887 47.0001,-316.887 47.0001,-316.887 47.0001,-316.887 47,-321.887 51.5001,-316.887 47,-326.887 47,-326.887\"/>\n",
       "<text text-anchor=\"middle\" x=\"71\" y=\"-297.8\" font-family=\"Times,serif\" font-size=\"14.00\">128x148</text>\n",
       "</g>\n",
       "<!-- hybridsequential0_conv1_fwd -->\n",
       "<g id=\"node5\" class=\"node\"><title>hybridsequential0_conv1_fwd</title>\n",
       "<polygon fill=\"#fb8072\" stroke=\"black\" points=\"94,-494 -7.10543e-15,-494 -7.10543e-15,-436 94,-436 94,-494\"/>\n",
       "<text text-anchor=\"middle\" x=\"47\" y=\"-468.8\" font-family=\"Times,serif\" font-size=\"14.00\">Convolution</text>\n",
       "<text text-anchor=\"middle\" x=\"47\" y=\"-453.8\" font-family=\"Times,serif\" font-size=\"14.00\">3/1, 128</text>\n",
       "</g>\n",
       "<!-- hybridsequential0_conv1_fwd&#45;&gt;hybridsequential0_pool0_fwd -->\n",
       "<g id=\"edge4\" class=\"edge\"><title>hybridsequential0_conv1_fwd&#45;&gt;hybridsequential0_pool0_fwd</title>\n",
       "<path fill=\"none\" stroke=\"black\" d=\"M47,-425.582C47,-412.284 47,-397.632 47,-385.297\"/>\n",
       "<polygon fill=\"black\" stroke=\"black\" points=\"47,-435.887 42.5001,-425.887 47,-430.887 47.0001,-425.887 47.0001,-425.887 47.0001,-425.887 47,-430.887 51.5001,-425.887 47,-435.887 47,-435.887\"/>\n",
       "<text text-anchor=\"middle\" x=\"71\" y=\"-406.8\" font-family=\"Times,serif\" font-size=\"14.00\">128x146</text>\n",
       "</g>\n",
       "<!-- hybridsequential0_conv1_relu_fwd -->\n",
       "<g id=\"node6\" class=\"node\"><title>hybridsequential0_conv1_relu_fwd</title>\n",
       "<polygon fill=\"#ffffb3\" stroke=\"black\" points=\"94,-603 -7.10543e-15,-603 -7.10543e-15,-545 94,-545 94,-603\"/>\n",
       "<text text-anchor=\"middle\" x=\"47\" y=\"-577.8\" font-family=\"Times,serif\" font-size=\"14.00\">Activation</text>\n",
       "<text text-anchor=\"middle\" x=\"47\" y=\"-562.8\" font-family=\"Times,serif\" font-size=\"14.00\">relu</text>\n",
       "</g>\n",
       "<!-- hybridsequential0_conv1_relu_fwd&#45;&gt;hybridsequential0_conv1_fwd -->\n",
       "<g id=\"edge5\" class=\"edge\"><title>hybridsequential0_conv1_relu_fwd&#45;&gt;hybridsequential0_conv1_fwd</title>\n",
       "<path fill=\"none\" stroke=\"black\" d=\"M47,-534.582C47,-521.284 47,-506.632 47,-494.297\"/>\n",
       "<polygon fill=\"black\" stroke=\"black\" points=\"47,-544.887 42.5001,-534.887 47,-539.887 47.0001,-534.887 47.0001,-534.887 47.0001,-534.887 47,-539.887 51.5001,-534.887 47,-544.887 47,-544.887\"/>\n",
       "<text text-anchor=\"middle\" x=\"71\" y=\"-515.8\" font-family=\"Times,serif\" font-size=\"14.00\">128x144</text>\n",
       "</g>\n",
       "<!-- hybridsequential0_pool1_fwd -->\n",
       "<g id=\"node7\" class=\"node\"><title>hybridsequential0_pool1_fwd</title>\n",
       "<polygon fill=\"#80b1d3\" stroke=\"black\" points=\"94,-712 -7.10543e-15,-712 -7.10543e-15,-654 94,-654 94,-712\"/>\n",
       "<text text-anchor=\"middle\" x=\"47\" y=\"-686.8\" font-family=\"Times,serif\" font-size=\"14.00\">Pooling</text>\n",
       "<text text-anchor=\"middle\" x=\"47\" y=\"-671.8\" font-family=\"Times,serif\" font-size=\"14.00\">max, 3/1</text>\n",
       "</g>\n",
       "<!-- hybridsequential0_pool1_fwd&#45;&gt;hybridsequential0_conv1_relu_fwd -->\n",
       "<g id=\"edge6\" class=\"edge\"><title>hybridsequential0_pool1_fwd&#45;&gt;hybridsequential0_conv1_relu_fwd</title>\n",
       "<path fill=\"none\" stroke=\"black\" d=\"M47,-643.582C47,-630.284 47,-615.632 47,-603.297\"/>\n",
       "<polygon fill=\"black\" stroke=\"black\" points=\"47,-653.887 42.5001,-643.887 47,-648.887 47.0001,-643.887 47.0001,-643.887 47.0001,-643.887 47,-648.887 51.5001,-643.887 47,-653.887 47,-653.887\"/>\n",
       "<text text-anchor=\"middle\" x=\"71\" y=\"-624.8\" font-family=\"Times,serif\" font-size=\"14.00\">128x144</text>\n",
       "</g>\n",
       "<!-- hybridsequential0_conv2_fwd -->\n",
       "<g id=\"node8\" class=\"node\"><title>hybridsequential0_conv2_fwd</title>\n",
       "<polygon fill=\"#fb8072\" stroke=\"black\" points=\"94,-821 -7.10543e-15,-821 -7.10543e-15,-763 94,-763 94,-821\"/>\n",
       "<text text-anchor=\"middle\" x=\"47\" y=\"-795.8\" font-family=\"Times,serif\" font-size=\"14.00\">Convolution</text>\n",
       "<text text-anchor=\"middle\" x=\"47\" y=\"-780.8\" font-family=\"Times,serif\" font-size=\"14.00\">3/1, 128</text>\n",
       "</g>\n",
       "<!-- hybridsequential0_conv2_fwd&#45;&gt;hybridsequential0_pool1_fwd -->\n",
       "<g id=\"edge7\" class=\"edge\"><title>hybridsequential0_conv2_fwd&#45;&gt;hybridsequential0_pool1_fwd</title>\n",
       "<path fill=\"none\" stroke=\"black\" d=\"M47,-752.582C47,-739.284 47,-724.632 47,-712.297\"/>\n",
       "<polygon fill=\"black\" stroke=\"black\" points=\"47,-762.887 42.5001,-752.887 47,-757.887 47.0001,-752.887 47.0001,-752.887 47.0001,-752.887 47,-757.887 51.5001,-752.887 47,-762.887 47,-762.887\"/>\n",
       "<text text-anchor=\"middle\" x=\"71\" y=\"-733.8\" font-family=\"Times,serif\" font-size=\"14.00\">128x142</text>\n",
       "</g>\n",
       "<!-- hybridsequential0_conv2_relu_fwd -->\n",
       "<g id=\"node9\" class=\"node\"><title>hybridsequential0_conv2_relu_fwd</title>\n",
       "<polygon fill=\"#ffffb3\" stroke=\"black\" points=\"94,-930 -7.10543e-15,-930 -7.10543e-15,-872 94,-872 94,-930\"/>\n",
       "<text text-anchor=\"middle\" x=\"47\" y=\"-904.8\" font-family=\"Times,serif\" font-size=\"14.00\">Activation</text>\n",
       "<text text-anchor=\"middle\" x=\"47\" y=\"-889.8\" font-family=\"Times,serif\" font-size=\"14.00\">relu</text>\n",
       "</g>\n",
       "<!-- hybridsequential0_conv2_relu_fwd&#45;&gt;hybridsequential0_conv2_fwd -->\n",
       "<g id=\"edge8\" class=\"edge\"><title>hybridsequential0_conv2_relu_fwd&#45;&gt;hybridsequential0_conv2_fwd</title>\n",
       "<path fill=\"none\" stroke=\"black\" d=\"M47,-861.582C47,-848.284 47,-833.632 47,-821.297\"/>\n",
       "<polygon fill=\"black\" stroke=\"black\" points=\"47,-871.887 42.5001,-861.887 47,-866.887 47.0001,-861.887 47.0001,-861.887 47.0001,-861.887 47,-866.887 51.5001,-861.887 47,-871.887 47,-871.887\"/>\n",
       "<text text-anchor=\"middle\" x=\"71\" y=\"-842.8\" font-family=\"Times,serif\" font-size=\"14.00\">128x140</text>\n",
       "</g>\n",
       "<!-- hybridsequential0_conv3_fwd -->\n",
       "<g id=\"node10\" class=\"node\"><title>hybridsequential0_conv3_fwd</title>\n",
       "<polygon fill=\"#fb8072\" stroke=\"black\" points=\"94,-1039 -7.10543e-15,-1039 -7.10543e-15,-981 94,-981 94,-1039\"/>\n",
       "<text text-anchor=\"middle\" x=\"47\" y=\"-1013.8\" font-family=\"Times,serif\" font-size=\"14.00\">Convolution</text>\n",
       "<text text-anchor=\"middle\" x=\"47\" y=\"-998.8\" font-family=\"Times,serif\" font-size=\"14.00\">3/1, 128</text>\n",
       "</g>\n",
       "<!-- hybridsequential0_conv3_fwd&#45;&gt;hybridsequential0_conv2_relu_fwd -->\n",
       "<g id=\"edge9\" class=\"edge\"><title>hybridsequential0_conv3_fwd&#45;&gt;hybridsequential0_conv2_relu_fwd</title>\n",
       "<path fill=\"none\" stroke=\"black\" d=\"M47,-970.582C47,-957.284 47,-942.632 47,-930.297\"/>\n",
       "<polygon fill=\"black\" stroke=\"black\" points=\"47,-980.887 42.5001,-970.887 47,-975.887 47.0001,-970.887 47.0001,-970.887 47.0001,-970.887 47,-975.887 51.5001,-970.887 47,-980.887 47,-980.887\"/>\n",
       "<text text-anchor=\"middle\" x=\"71\" y=\"-951.8\" font-family=\"Times,serif\" font-size=\"14.00\">128x140</text>\n",
       "</g>\n",
       "<!-- hybridsequential0_conv3_relu_fwd -->\n",
       "<g id=\"node11\" class=\"node\"><title>hybridsequential0_conv3_relu_fwd</title>\n",
       "<polygon fill=\"#ffffb3\" stroke=\"black\" points=\"94,-1148 -7.10543e-15,-1148 -7.10543e-15,-1090 94,-1090 94,-1148\"/>\n",
       "<text text-anchor=\"middle\" x=\"47\" y=\"-1122.8\" font-family=\"Times,serif\" font-size=\"14.00\">Activation</text>\n",
       "<text text-anchor=\"middle\" x=\"47\" y=\"-1107.8\" font-family=\"Times,serif\" font-size=\"14.00\">relu</text>\n",
       "</g>\n",
       "<!-- hybridsequential0_conv3_relu_fwd&#45;&gt;hybridsequential0_conv3_fwd -->\n",
       "<g id=\"edge10\" class=\"edge\"><title>hybridsequential0_conv3_relu_fwd&#45;&gt;hybridsequential0_conv3_fwd</title>\n",
       "<path fill=\"none\" stroke=\"black\" d=\"M47,-1079.58C47,-1066.28 47,-1051.63 47,-1039.3\"/>\n",
       "<polygon fill=\"black\" stroke=\"black\" points=\"47,-1089.89 42.5001,-1079.89 47,-1084.89 47.0001,-1079.89 47.0001,-1079.89 47.0001,-1079.89 47,-1084.89 51.5001,-1079.89 47,-1089.89 47,-1089.89\"/>\n",
       "<text text-anchor=\"middle\" x=\"71\" y=\"-1060.8\" font-family=\"Times,serif\" font-size=\"14.00\">128x138</text>\n",
       "</g>\n",
       "<!-- hybridsequential0_conv4_fwd -->\n",
       "<g id=\"node12\" class=\"node\"><title>hybridsequential0_conv4_fwd</title>\n",
       "<polygon fill=\"#fb8072\" stroke=\"black\" points=\"94,-1257 -7.10543e-15,-1257 -7.10543e-15,-1199 94,-1199 94,-1257\"/>\n",
       "<text text-anchor=\"middle\" x=\"47\" y=\"-1231.8\" font-family=\"Times,serif\" font-size=\"14.00\">Convolution</text>\n",
       "<text text-anchor=\"middle\" x=\"47\" y=\"-1216.8\" font-family=\"Times,serif\" font-size=\"14.00\">3/1, 128</text>\n",
       "</g>\n",
       "<!-- hybridsequential0_conv4_fwd&#45;&gt;hybridsequential0_conv3_relu_fwd -->\n",
       "<g id=\"edge11\" class=\"edge\"><title>hybridsequential0_conv4_fwd&#45;&gt;hybridsequential0_conv3_relu_fwd</title>\n",
       "<path fill=\"none\" stroke=\"black\" d=\"M47,-1188.58C47,-1175.28 47,-1160.63 47,-1148.3\"/>\n",
       "<polygon fill=\"black\" stroke=\"black\" points=\"47,-1198.89 42.5001,-1188.89 47,-1193.89 47.0001,-1188.89 47.0001,-1188.89 47.0001,-1188.89 47,-1193.89 51.5001,-1188.89 47,-1198.89 47,-1198.89\"/>\n",
       "<text text-anchor=\"middle\" x=\"71\" y=\"-1169.8\" font-family=\"Times,serif\" font-size=\"14.00\">128x138</text>\n",
       "</g>\n",
       "<!-- hybridsequential0_conv4_relu_fwd -->\n",
       "<g id=\"node13\" class=\"node\"><title>hybridsequential0_conv4_relu_fwd</title>\n",
       "<polygon fill=\"#ffffb3\" stroke=\"black\" points=\"94,-1366 -7.10543e-15,-1366 -7.10543e-15,-1308 94,-1308 94,-1366\"/>\n",
       "<text text-anchor=\"middle\" x=\"47\" y=\"-1340.8\" font-family=\"Times,serif\" font-size=\"14.00\">Activation</text>\n",
       "<text text-anchor=\"middle\" x=\"47\" y=\"-1325.8\" font-family=\"Times,serif\" font-size=\"14.00\">relu</text>\n",
       "</g>\n",
       "<!-- hybridsequential0_conv4_relu_fwd&#45;&gt;hybridsequential0_conv4_fwd -->\n",
       "<g id=\"edge12\" class=\"edge\"><title>hybridsequential0_conv4_relu_fwd&#45;&gt;hybridsequential0_conv4_fwd</title>\n",
       "<path fill=\"none\" stroke=\"black\" d=\"M47,-1297.58C47,-1284.28 47,-1269.63 47,-1257.3\"/>\n",
       "<polygon fill=\"black\" stroke=\"black\" points=\"47,-1307.89 42.5001,-1297.89 47,-1302.89 47.0001,-1297.89 47.0001,-1297.89 47.0001,-1297.89 47,-1302.89 51.5001,-1297.89 47,-1307.89 47,-1307.89\"/>\n",
       "<text text-anchor=\"middle\" x=\"71\" y=\"-1278.8\" font-family=\"Times,serif\" font-size=\"14.00\">128x136</text>\n",
       "</g>\n",
       "<!-- hybridsequential0_conv5_fwd -->\n",
       "<g id=\"node14\" class=\"node\"><title>hybridsequential0_conv5_fwd</title>\n",
       "<polygon fill=\"#fb8072\" stroke=\"black\" points=\"94,-1475 -7.10543e-15,-1475 -7.10543e-15,-1417 94,-1417 94,-1475\"/>\n",
       "<text text-anchor=\"middle\" x=\"47\" y=\"-1449.8\" font-family=\"Times,serif\" font-size=\"14.00\">Convolution</text>\n",
       "<text text-anchor=\"middle\" x=\"47\" y=\"-1434.8\" font-family=\"Times,serif\" font-size=\"14.00\">3/1, 128</text>\n",
       "</g>\n",
       "<!-- hybridsequential0_conv5_fwd&#45;&gt;hybridsequential0_conv4_relu_fwd -->\n",
       "<g id=\"edge13\" class=\"edge\"><title>hybridsequential0_conv5_fwd&#45;&gt;hybridsequential0_conv4_relu_fwd</title>\n",
       "<path fill=\"none\" stroke=\"black\" d=\"M47,-1406.58C47,-1393.28 47,-1378.63 47,-1366.3\"/>\n",
       "<polygon fill=\"black\" stroke=\"black\" points=\"47,-1416.89 42.5001,-1406.89 47,-1411.89 47.0001,-1406.89 47.0001,-1406.89 47.0001,-1406.89 47,-1411.89 51.5001,-1406.89 47,-1416.89 47,-1416.89\"/>\n",
       "<text text-anchor=\"middle\" x=\"71\" y=\"-1387.8\" font-family=\"Times,serif\" font-size=\"14.00\">128x136</text>\n",
       "</g>\n",
       "<!-- hybridsequential0_conv5_relu_fwd -->\n",
       "<g id=\"node15\" class=\"node\"><title>hybridsequential0_conv5_relu_fwd</title>\n",
       "<polygon fill=\"#ffffb3\" stroke=\"black\" points=\"94,-1584 -7.10543e-15,-1584 -7.10543e-15,-1526 94,-1526 94,-1584\"/>\n",
       "<text text-anchor=\"middle\" x=\"47\" y=\"-1558.8\" font-family=\"Times,serif\" font-size=\"14.00\">Activation</text>\n",
       "<text text-anchor=\"middle\" x=\"47\" y=\"-1543.8\" font-family=\"Times,serif\" font-size=\"14.00\">relu</text>\n",
       "</g>\n",
       "<!-- hybridsequential0_conv5_relu_fwd&#45;&gt;hybridsequential0_conv5_fwd -->\n",
       "<g id=\"edge14\" class=\"edge\"><title>hybridsequential0_conv5_relu_fwd&#45;&gt;hybridsequential0_conv5_fwd</title>\n",
       "<path fill=\"none\" stroke=\"black\" d=\"M47,-1515.58C47,-1502.28 47,-1487.63 47,-1475.3\"/>\n",
       "<polygon fill=\"black\" stroke=\"black\" points=\"47,-1525.89 42.5001,-1515.89 47,-1520.89 47.0001,-1515.89 47.0001,-1515.89 47.0001,-1515.89 47,-1520.89 51.5001,-1515.89 47,-1525.89 47,-1525.89\"/>\n",
       "<text text-anchor=\"middle\" x=\"71\" y=\"-1496.8\" font-family=\"Times,serif\" font-size=\"14.00\">128x134</text>\n",
       "</g>\n",
       "<!-- hybridsequential0_flatten0_flatten0 -->\n",
       "<g id=\"node16\" class=\"node\"><title>hybridsequential0_flatten0_flatten0</title>\n",
       "<polygon fill=\"#fdb462\" stroke=\"black\" points=\"94,-1693 -7.10543e-15,-1693 -7.10543e-15,-1635 94,-1635 94,-1693\"/>\n",
       "<text text-anchor=\"middle\" x=\"47\" y=\"-1660.3\" font-family=\"Times,serif\" font-size=\"14.00\">hybridsequential0_flatten0_flatten0</text>\n",
       "</g>\n",
       "<!-- hybridsequential0_flatten0_flatten0&#45;&gt;hybridsequential0_conv5_relu_fwd -->\n",
       "<g id=\"edge15\" class=\"edge\"><title>hybridsequential0_flatten0_flatten0&#45;&gt;hybridsequential0_conv5_relu_fwd</title>\n",
       "<path fill=\"none\" stroke=\"black\" d=\"M47,-1624.58C47,-1611.28 47,-1596.63 47,-1584.3\"/>\n",
       "<polygon fill=\"black\" stroke=\"black\" points=\"47,-1634.89 42.5001,-1624.89 47,-1629.89 47.0001,-1624.89 47.0001,-1624.89 47.0001,-1624.89 47,-1629.89 51.5001,-1624.89 47,-1634.89 47,-1634.89\"/>\n",
       "<text text-anchor=\"middle\" x=\"71\" y=\"-1605.8\" font-family=\"Times,serif\" font-size=\"14.00\">128x134</text>\n",
       "</g>\n",
       "<!-- hybridsequential0_dense0_fwd -->\n",
       "<g id=\"node17\" class=\"node\"><title>hybridsequential0_dense0_fwd</title>\n",
       "<polygon fill=\"#fb8072\" stroke=\"black\" points=\"94,-1802 -7.10543e-15,-1802 -7.10543e-15,-1744 94,-1744 94,-1802\"/>\n",
       "<text text-anchor=\"middle\" x=\"47\" y=\"-1776.8\" font-family=\"Times,serif\" font-size=\"14.00\">FullyConnected</text>\n",
       "<text text-anchor=\"middle\" x=\"47\" y=\"-1761.8\" font-family=\"Times,serif\" font-size=\"14.00\">100</text>\n",
       "</g>\n",
       "<!-- hybridsequential0_dense0_fwd&#45;&gt;hybridsequential0_flatten0_flatten0 -->\n",
       "<g id=\"edge16\" class=\"edge\"><title>hybridsequential0_dense0_fwd&#45;&gt;hybridsequential0_flatten0_flatten0</title>\n",
       "<path fill=\"none\" stroke=\"black\" d=\"M47,-1733.58C47,-1720.28 47,-1705.63 47,-1693.3\"/>\n",
       "<polygon fill=\"black\" stroke=\"black\" points=\"47,-1743.89 42.5001,-1733.89 47,-1738.89 47.0001,-1733.89 47.0001,-1733.89 47.0001,-1733.89 47,-1738.89 51.5001,-1733.89 47,-1743.89 47,-1743.89\"/>\n",
       "<text text-anchor=\"middle\" x=\"64\" y=\"-1714.8\" font-family=\"Times,serif\" font-size=\"14.00\">17152</text>\n",
       "</g>\n",
       "<!-- hybridsequential0_dense0_relu_fwd -->\n",
       "<g id=\"node18\" class=\"node\"><title>hybridsequential0_dense0_relu_fwd</title>\n",
       "<polygon fill=\"#ffffb3\" stroke=\"black\" points=\"94,-1911 -7.10543e-15,-1911 -7.10543e-15,-1853 94,-1853 94,-1911\"/>\n",
       "<text text-anchor=\"middle\" x=\"47\" y=\"-1885.8\" font-family=\"Times,serif\" font-size=\"14.00\">Activation</text>\n",
       "<text text-anchor=\"middle\" x=\"47\" y=\"-1870.8\" font-family=\"Times,serif\" font-size=\"14.00\">relu</text>\n",
       "</g>\n",
       "<!-- hybridsequential0_dense0_relu_fwd&#45;&gt;hybridsequential0_dense0_fwd -->\n",
       "<g id=\"edge17\" class=\"edge\"><title>hybridsequential0_dense0_relu_fwd&#45;&gt;hybridsequential0_dense0_fwd</title>\n",
       "<path fill=\"none\" stroke=\"black\" d=\"M47,-1842.58C47,-1829.28 47,-1814.63 47,-1802.3\"/>\n",
       "<polygon fill=\"black\" stroke=\"black\" points=\"47,-1852.89 42.5001,-1842.89 47,-1847.89 47.0001,-1842.89 47.0001,-1842.89 47.0001,-1842.89 47,-1847.89 51.5001,-1842.89 47,-1852.89 47,-1852.89\"/>\n",
       "<text text-anchor=\"middle\" x=\"57.5\" y=\"-1823.8\" font-family=\"Times,serif\" font-size=\"14.00\">100</text>\n",
       "</g>\n",
       "<!-- hybridsequential0_dropout0_fwd -->\n",
       "<g id=\"node19\" class=\"node\"><title>hybridsequential0_dropout0_fwd</title>\n",
       "<polygon fill=\"#fccde5\" stroke=\"black\" points=\"94,-2020 -7.10543e-15,-2020 -7.10543e-15,-1962 94,-1962 94,-2020\"/>\n",
       "<text text-anchor=\"middle\" x=\"47\" y=\"-1987.3\" font-family=\"Times,serif\" font-size=\"14.00\">hybridsequential0_dropout0_fwd</text>\n",
       "</g>\n",
       "<!-- hybridsequential0_dropout0_fwd&#45;&gt;hybridsequential0_dense0_relu_fwd -->\n",
       "<g id=\"edge18\" class=\"edge\"><title>hybridsequential0_dropout0_fwd&#45;&gt;hybridsequential0_dense0_relu_fwd</title>\n",
       "<path fill=\"none\" stroke=\"black\" d=\"M47,-1951.58C47,-1938.28 47,-1923.63 47,-1911.3\"/>\n",
       "<polygon fill=\"black\" stroke=\"black\" points=\"47,-1961.89 42.5001,-1951.89 47,-1956.89 47.0001,-1951.89 47.0001,-1951.89 47.0001,-1951.89 47,-1956.89 51.5001,-1951.89 47,-1961.89 47,-1961.89\"/>\n",
       "<text text-anchor=\"middle\" x=\"57.5\" y=\"-1932.8\" font-family=\"Times,serif\" font-size=\"14.00\">100</text>\n",
       "</g>\n",
       "<!-- hybridsequential0_dense1_fwd -->\n",
       "<g id=\"node20\" class=\"node\"><title>hybridsequential0_dense1_fwd</title>\n",
       "<polygon fill=\"#fb8072\" stroke=\"black\" points=\"94,-2129 -7.10543e-15,-2129 -7.10543e-15,-2071 94,-2071 94,-2129\"/>\n",
       "<text text-anchor=\"middle\" x=\"47\" y=\"-2103.8\" font-family=\"Times,serif\" font-size=\"14.00\">FullyConnected</text>\n",
       "<text text-anchor=\"middle\" x=\"47\" y=\"-2088.8\" font-family=\"Times,serif\" font-size=\"14.00\">100</text>\n",
       "</g>\n",
       "<!-- hybridsequential0_dense1_fwd&#45;&gt;hybridsequential0_dropout0_fwd -->\n",
       "<g id=\"edge19\" class=\"edge\"><title>hybridsequential0_dense1_fwd&#45;&gt;hybridsequential0_dropout0_fwd</title>\n",
       "<path fill=\"none\" stroke=\"black\" d=\"M47,-2060.58C47,-2047.28 47,-2032.63 47,-2020.3\"/>\n",
       "<polygon fill=\"black\" stroke=\"black\" points=\"47,-2070.89 42.5001,-2060.89 47,-2065.89 47.0001,-2060.89 47.0001,-2060.89 47.0001,-2060.89 47,-2065.89 51.5001,-2060.89 47,-2070.89 47,-2070.89\"/>\n",
       "<text text-anchor=\"middle\" x=\"57.5\" y=\"-2041.8\" font-family=\"Times,serif\" font-size=\"14.00\">100</text>\n",
       "</g>\n",
       "<!-- hybridsequential0_dense1_relu_fwd -->\n",
       "<g id=\"node21\" class=\"node\"><title>hybridsequential0_dense1_relu_fwd</title>\n",
       "<polygon fill=\"#ffffb3\" stroke=\"black\" points=\"94,-2238 -7.10543e-15,-2238 -7.10543e-15,-2180 94,-2180 94,-2238\"/>\n",
       "<text text-anchor=\"middle\" x=\"47\" y=\"-2212.8\" font-family=\"Times,serif\" font-size=\"14.00\">Activation</text>\n",
       "<text text-anchor=\"middle\" x=\"47\" y=\"-2197.8\" font-family=\"Times,serif\" font-size=\"14.00\">relu</text>\n",
       "</g>\n",
       "<!-- hybridsequential0_dense1_relu_fwd&#45;&gt;hybridsequential0_dense1_fwd -->\n",
       "<g id=\"edge20\" class=\"edge\"><title>hybridsequential0_dense1_relu_fwd&#45;&gt;hybridsequential0_dense1_fwd</title>\n",
       "<path fill=\"none\" stroke=\"black\" d=\"M47,-2169.58C47,-2156.28 47,-2141.63 47,-2129.3\"/>\n",
       "<polygon fill=\"black\" stroke=\"black\" points=\"47,-2179.89 42.5001,-2169.89 47,-2174.89 47.0001,-2169.89 47.0001,-2169.89 47.0001,-2169.89 47,-2174.89 51.5001,-2169.89 47,-2179.89 47,-2179.89\"/>\n",
       "<text text-anchor=\"middle\" x=\"57.5\" y=\"-2150.8\" font-family=\"Times,serif\" font-size=\"14.00\">100</text>\n",
       "</g>\n",
       "<!-- hybridsequential0_dropout1_fwd -->\n",
       "<g id=\"node22\" class=\"node\"><title>hybridsequential0_dropout1_fwd</title>\n",
       "<polygon fill=\"#fccde5\" stroke=\"black\" points=\"94,-2347 -7.10543e-15,-2347 -7.10543e-15,-2289 94,-2289 94,-2347\"/>\n",
       "<text text-anchor=\"middle\" x=\"47\" y=\"-2314.3\" font-family=\"Times,serif\" font-size=\"14.00\">hybridsequential0_dropout1_fwd</text>\n",
       "</g>\n",
       "<!-- hybridsequential0_dropout1_fwd&#45;&gt;hybridsequential0_dense1_relu_fwd -->\n",
       "<g id=\"edge21\" class=\"edge\"><title>hybridsequential0_dropout1_fwd&#45;&gt;hybridsequential0_dense1_relu_fwd</title>\n",
       "<path fill=\"none\" stroke=\"black\" d=\"M47,-2278.58C47,-2265.28 47,-2250.63 47,-2238.3\"/>\n",
       "<polygon fill=\"black\" stroke=\"black\" points=\"47,-2288.89 42.5001,-2278.89 47,-2283.89 47.0001,-2278.89 47.0001,-2278.89 47.0001,-2278.89 47,-2283.89 51.5001,-2278.89 47,-2288.89 47,-2288.89\"/>\n",
       "<text text-anchor=\"middle\" x=\"57.5\" y=\"-2259.8\" font-family=\"Times,serif\" font-size=\"14.00\">100</text>\n",
       "</g>\n",
       "<!-- hybridsequential0_dense2_fwd -->\n",
       "<g id=\"node23\" class=\"node\"><title>hybridsequential0_dense2_fwd</title>\n",
       "<polygon fill=\"#fb8072\" stroke=\"black\" points=\"94,-2456 -7.10543e-15,-2456 -7.10543e-15,-2398 94,-2398 94,-2456\"/>\n",
       "<text text-anchor=\"middle\" x=\"47\" y=\"-2430.8\" font-family=\"Times,serif\" font-size=\"14.00\">FullyConnected</text>\n",
       "<text text-anchor=\"middle\" x=\"47\" y=\"-2415.8\" font-family=\"Times,serif\" font-size=\"14.00\">2</text>\n",
       "</g>\n",
       "<!-- hybridsequential0_dense2_fwd&#45;&gt;hybridsequential0_dropout1_fwd -->\n",
       "<g id=\"edge22\" class=\"edge\"><title>hybridsequential0_dense2_fwd&#45;&gt;hybridsequential0_dropout1_fwd</title>\n",
       "<path fill=\"none\" stroke=\"black\" d=\"M47,-2387.58C47,-2374.28 47,-2359.63 47,-2347.3\"/>\n",
       "<polygon fill=\"black\" stroke=\"black\" points=\"47,-2397.89 42.5001,-2387.89 47,-2392.89 47.0001,-2387.89 47.0001,-2387.89 47.0001,-2387.89 47,-2392.89 51.5001,-2387.89 47,-2397.89 47,-2397.89\"/>\n",
       "<text text-anchor=\"middle\" x=\"57.5\" y=\"-2368.8\" font-family=\"Times,serif\" font-size=\"14.00\">100</text>\n",
       "</g>\n",
       "</g>\n",
       "</svg>\n"
      ],
      "text/plain": [
       "<graphviz.dot.Digraph at 0x7f18aae09a90>"
      ]
     },
     "execution_count": 35,
     "metadata": {},
     "output_type": "execute_result"
    }
   ],
   "source": [
    "mx.viz.plot_network(\n",
    "    net(mx.sym.var('data')), \n",
    "    shape={'data':shape}\n",
    ")"
   ]
  },
  {
   "cell_type": "code",
   "execution_count": null,
   "metadata": {},
   "outputs": [],
   "source": []
  },
  {
   "cell_type": "code",
   "execution_count": 36,
   "metadata": {},
   "outputs": [
    {
     "name": "stdout",
     "output_type": "stream",
     "text": [
      "________________________________________________________________________________________________________________________\n",
      "Layer (type)                                        Output Shape            Param #     Previous Layer                  \n",
      "========================================================================================================================\n",
      "data(null)                                          69x150                  0                                           \n",
      "________________________________________________________________________________________________________________________\n",
      "hybridsequential0_conv0_fwd(Convolution)            128x148                 26624       data                            \n",
      "________________________________________________________________________________________________________________________\n",
      "hybridsequential0_conv0_relu_fwd(Activation)        128x148                 0           hybridsequential0_conv0_fwd     \n",
      "________________________________________________________________________________________________________________________\n",
      "hybridsequential0_pool0_fwd(Pooling)                128x146                 0           hybridsequential0_conv0_relu_fwd\n",
      "________________________________________________________________________________________________________________________\n",
      "hybridsequential0_conv1_fwd(Convolution)            128x144                 49280       hybridsequential0_pool0_fwd     \n",
      "________________________________________________________________________________________________________________________\n",
      "hybridsequential0_conv1_relu_fwd(Activation)        128x144                 0           hybridsequential0_conv1_fwd     \n",
      "________________________________________________________________________________________________________________________\n",
      "hybridsequential0_pool1_fwd(Pooling)                128x142                 0           hybridsequential0_conv1_relu_fwd\n",
      "________________________________________________________________________________________________________________________\n",
      "hybridsequential0_conv2_fwd(Convolution)            128x140                 49280       hybridsequential0_pool1_fwd     \n",
      "________________________________________________________________________________________________________________________\n",
      "hybridsequential0_conv2_relu_fwd(Activation)        128x140                 0           hybridsequential0_conv2_fwd     \n",
      "________________________________________________________________________________________________________________________\n",
      "hybridsequential0_conv3_fwd(Convolution)            128x138                 49280       hybridsequential0_conv2_relu_fwd\n",
      "________________________________________________________________________________________________________________________\n",
      "hybridsequential0_conv3_relu_fwd(Activation)        128x138                 0           hybridsequential0_conv3_fwd     \n",
      "________________________________________________________________________________________________________________________\n",
      "hybridsequential0_conv4_fwd(Convolution)            128x136                 49280       hybridsequential0_conv3_relu_fwd\n",
      "________________________________________________________________________________________________________________________\n",
      "hybridsequential0_conv4_relu_fwd(Activation)        128x136                 0           hybridsequential0_conv4_fwd     \n",
      "________________________________________________________________________________________________________________________\n",
      "hybridsequential0_conv5_fwd(Convolution)            128x134                 49280       hybridsequential0_conv4_relu_fwd\n",
      "________________________________________________________________________________________________________________________\n",
      "hybridsequential0_conv5_relu_fwd(Activation)        128x134                 0           hybridsequential0_conv5_fwd     \n",
      "________________________________________________________________________________________________________________________\n",
      "hybridsequential0_flatten0_flatten0(Flatten)        17152                   0           hybridsequential0_conv5_relu_fwd\n",
      "________________________________________________________________________________________________________________________\n",
      "hybridsequential0_dense0_fwd(FullyConnected)        100                     1715300     hybridsequential0_flatten0_flatt\n",
      "________________________________________________________________________________________________________________________\n",
      "hybridsequential0_dense0_relu_fwd(Activation)       100                     0           hybridsequential0_dense0_fwd    \n",
      "________________________________________________________________________________________________________________________\n",
      "hybridsequential0_dropout0_fwd(Dropout)             100                     0           hybridsequential0_dense0_relu_fw\n",
      "________________________________________________________________________________________________________________________\n",
      "hybridsequential0_dense1_fwd(FullyConnected)        100                     10100       hybridsequential0_dropout0_fwd  \n",
      "________________________________________________________________________________________________________________________\n",
      "hybridsequential0_dense1_relu_fwd(Activation)       100                     0           hybridsequential0_dense1_fwd    \n",
      "________________________________________________________________________________________________________________________\n",
      "hybridsequential0_dropout1_fwd(Dropout)             100                     0           hybridsequential0_dense1_relu_fw\n",
      "________________________________________________________________________________________________________________________\n",
      "hybridsequential0_dense2_fwd(FullyConnected)        2                       202         hybridsequential0_dropout1_fwd  \n",
      "========================================================================================================================\n",
      "Total params: 1998626\n",
      "________________________________________________________________________________________________________________________\n"
     ]
    }
   ],
   "source": [
    "mx.viz.print_summary(\n",
    "    net(mx.sym.var('data')), \n",
    "    shape={'data':shape}\n",
    ")"
   ]
  },
  {
   "cell_type": "code",
   "execution_count": 37,
   "metadata": {},
   "outputs": [],
   "source": [
    " ## Output Size\n",
    "#(W - F_w + 2*P)/S_w + 1  : W = 폭, F = 필터 폭, P = padding 사이즈, S = Stride 사이즈 : (150 - 3 + 2*0)/1 + 1 = 148"
   ]
  },
  {
   "cell_type": "code",
   "execution_count": 79,
   "metadata": {},
   "outputs": [
    {
     "data": {
      "text/plain": [
       "True"
      ]
     },
     "execution_count": 79,
     "metadata": {},
     "output_type": "execute_result"
    }
   ],
   "source": [
    "# (F_o  * F_i * F_w * F_h) + F_o (Bias) : F_o = 아웃풋 채널수(필터수) , F_i = 인풋 채널수,  F_w = 필터 가로폭, F_h = 필터 세로폭\n",
    "## 여기서 인풋 채널 수는 데이터 길이\n",
    "26624 == (128 * 69 * 3 * 1) + 128"
   ]
  },
  {
   "cell_type": "code",
   "execution_count": null,
   "metadata": {},
   "outputs": [],
   "source": []
  },
  {
   "cell_type": "code",
   "execution_count": 38,
   "metadata": {},
   "outputs": [],
   "source": [
    "ctx = mx.cpu()"
   ]
  },
  {
   "cell_type": "code",
   "execution_count": null,
   "metadata": {},
   "outputs": [],
   "source": []
  },
  {
   "cell_type": "code",
   "execution_count": 39,
   "metadata": {},
   "outputs": [],
   "source": [
    "def evaluate_accuracy(data_iterator, net):\n",
    "    acc = mx.metric.Accuracy()\n",
    "    for i, (data, label) in enumerate(data_iterator):\n",
    "        data = data.as_in_context(ctx)\n",
    "        label = label.as_in_context(ctx)\n",
    "        with autograd.predict_mode():\n",
    "            output = net(data)\n",
    "        \n",
    "        prediction = nd.argmax(output, axis=1)\n",
    "        \n",
    "        if (i%20 == 0):\n",
    "            print(\"Samples {}\".format(i*len(data)))\n",
    "        acc.update(preds=prediction, labels=label)\n",
    "    return acc.get()[1]"
   ]
  },
  {
   "cell_type": "code",
   "execution_count": null,
   "metadata": {},
   "outputs": [],
   "source": []
  },
  {
   "cell_type": "code",
   "execution_count": 40,
   "metadata": {},
   "outputs": [],
   "source": [
    "softmax_cross_entropy = gluon.loss.SoftmaxCrossEntropyLoss()"
   ]
  },
  {
   "cell_type": "code",
   "execution_count": 41,
   "metadata": {},
   "outputs": [],
   "source": [
    "start_epoch = 0\n",
    "number_epochs = 150\n",
    "smoothing_constant=0.01"
   ]
  },
  {
   "cell_type": "code",
   "execution_count": 42,
   "metadata": {},
   "outputs": [
    {
     "name": "stdout",
     "output_type": "stream",
     "text": [
      "Samples 0\n",
      "Epoch 0. Loss: 0.6934, Training_acc 0.485\n",
      "Epoch 0. Loss: 0.6934, Test_acc 0.4961\n",
      "Samples 0\n",
      "Epoch 1. Loss: 0.6941, Training_acc 0.491\n",
      "Epoch 1. Loss: 0.6941, Test_acc 0.5044\n",
      "Samples 0\n",
      "Epoch 2. Loss: 0.6933, Training_acc 0.493\n",
      "Epoch 2. Loss: 0.6933, Test_acc 0.5078\n",
      "Samples 0\n",
      "Epoch 3. Loss: 0.6927, Training_acc 0.4931\n",
      "Epoch 3. Loss: 0.6927, Test_acc 0.499\n",
      "Samples 0\n",
      "Epoch 4. Loss: 0.6929, Training_acc 0.4942\n",
      "Epoch 4. Loss: 0.6929, Test_acc 0.5142\n",
      "Samples 0\n",
      "Epoch 5. Loss: 0.6929, Training_acc 0.495\n",
      "Epoch 5. Loss: 0.6929, Test_acc 0.5059\n",
      "Samples 0\n",
      "Epoch 6. Loss: 0.6931, Training_acc 0.4954\n",
      "Epoch 6. Loss: 0.6931, Test_acc 0.5083\n",
      "Samples 0\n",
      "Epoch 7. Loss: 0.6925, Training_acc 0.4966\n",
      "Epoch 7. Loss: 0.6925, Test_acc 0.5034\n",
      "Samples 0\n",
      "Epoch 8. Loss: 0.694, Training_acc 0.4973\n",
      "Epoch 8. Loss: 0.694, Test_acc 0.4946\n",
      "Samples 0\n",
      "Epoch 9. Loss: 0.6921, Training_acc 0.4978\n",
      "Epoch 9. Loss: 0.6921, Test_acc 0.5098\n",
      "Samples 0\n",
      "Epoch 10. Loss: 0.6938, Training_acc 0.4982\n",
      "Epoch 10. Loss: 0.6938, Test_acc 0.4927\n",
      "Samples 0\n",
      "Epoch 11. Loss: 0.6926, Training_acc 0.4986\n",
      "Epoch 11. Loss: 0.6926, Test_acc 0.4956\n",
      "Samples 0\n",
      "Epoch 12. Loss: 0.694, Training_acc 0.4991\n",
      "Epoch 12. Loss: 0.694, Test_acc 0.4946\n",
      "Samples 0\n",
      "Epoch 13. Loss: 0.6917, Training_acc 0.4998\n",
      "Epoch 13. Loss: 0.6917, Test_acc 0.5186\n",
      "Samples 0\n",
      "Epoch 14. Loss: 0.6929, Training_acc 0.5003\n",
      "Epoch 14. Loss: 0.6929, Test_acc 0.5181\n",
      "Samples 0\n",
      "Epoch 15. Loss: 0.693, Training_acc 0.5007\n",
      "Epoch 15. Loss: 0.693, Test_acc 0.4941\n",
      "Samples 0\n",
      "Epoch 16. Loss: 0.6935, Training_acc 0.5007\n",
      "Epoch 16. Loss: 0.6935, Test_acc 0.5044\n",
      "Samples 0\n",
      "Epoch 17. Loss: 0.6925, Training_acc 0.5006\n",
      "Epoch 17. Loss: 0.6925, Test_acc 0.5156\n",
      "Samples 0\n",
      "Epoch 18. Loss: 0.6939, Training_acc 0.501\n",
      "Epoch 18. Loss: 0.6939, Test_acc 0.5303\n",
      "Samples 0\n",
      "Epoch 19. Loss: 0.6935, Training_acc 0.5013\n",
      "Epoch 19. Loss: 0.6935, Test_acc 0.5073\n",
      "Samples 0\n",
      "Epoch 20. Loss: 0.6932, Training_acc 0.5014\n",
      "Epoch 20. Loss: 0.6932, Test_acc 0.5029\n",
      "Samples 0\n",
      "Epoch 21. Loss: 0.6927, Training_acc 0.5018\n",
      "Epoch 21. Loss: 0.6927, Test_acc 0.5039\n",
      "Samples 0\n",
      "Epoch 22. Loss: 0.6915, Training_acc 0.502\n",
      "Epoch 22. Loss: 0.6915, Test_acc 0.5132\n",
      "Samples 0\n",
      "Epoch 23. Loss: 0.6912, Training_acc 0.5026\n",
      "Epoch 23. Loss: 0.6912, Test_acc 0.5112\n",
      "Samples 0\n",
      "Epoch 24. Loss: 0.6913, Training_acc 0.5031\n",
      "Epoch 24. Loss: 0.6913, Test_acc 0.5015\n",
      "Samples 0\n",
      "Epoch 25. Loss: 0.6928, Training_acc 0.5035\n",
      "Epoch 25. Loss: 0.6928, Test_acc 0.5063\n",
      "Samples 0\n",
      "Epoch 26. Loss: 0.6923, Training_acc 0.5037\n",
      "Epoch 26. Loss: 0.6923, Test_acc 0.5034\n",
      "Samples 0\n",
      "Epoch 27. Loss: 0.6911, Training_acc 0.5042\n",
      "Epoch 27. Loss: 0.6911, Test_acc 0.5029\n",
      "Samples 0\n",
      "Epoch 28. Loss: 0.6922, Training_acc 0.5047\n",
      "Epoch 28. Loss: 0.6922, Test_acc 0.5132\n",
      "Samples 0\n",
      "Epoch 29. Loss: 0.6901, Training_acc 0.5056\n",
      "Epoch 29. Loss: 0.6901, Test_acc 0.5259\n",
      "Samples 0\n",
      "Epoch 30. Loss: 0.6904, Training_acc 0.5062\n",
      "Epoch 30. Loss: 0.6904, Test_acc 0.5283\n",
      "Samples 0\n",
      "Epoch 31. Loss: 0.6888, Training_acc 0.5074\n",
      "Epoch 31. Loss: 0.6888, Test_acc 0.5586\n",
      "Samples 0\n",
      "Epoch 32. Loss: 0.6862, Training_acc 0.5085\n",
      "Epoch 32. Loss: 0.6862, Test_acc 0.5293\n",
      "Samples 0\n",
      "Epoch 33. Loss: 0.6944, Training_acc 0.5088\n",
      "Epoch 33. Loss: 0.6944, Test_acc 0.4976\n",
      "Samples 0\n",
      "Epoch 34. Loss: 0.6962, Training_acc 0.5085\n",
      "Epoch 34. Loss: 0.6962, Test_acc 0.4941\n",
      "Samples 0\n",
      "Epoch 35. Loss: 0.6931, Training_acc 0.5083\n",
      "Epoch 35. Loss: 0.6931, Test_acc 0.5024\n",
      "Samples 0\n",
      "Epoch 36. Loss: 0.6921, Training_acc 0.5081\n",
      "Epoch 36. Loss: 0.6921, Test_acc 0.4946\n",
      "Samples 0\n",
      "Epoch 37. Loss: 0.6925, Training_acc 0.5079\n",
      "Epoch 37. Loss: 0.6925, Test_acc 0.5088\n",
      "Samples 0\n",
      "Epoch 38. Loss: 0.6933, Training_acc 0.5075\n",
      "Epoch 38. Loss: 0.6933, Test_acc 0.4956\n",
      "Samples 0\n",
      "Epoch 39. Loss: 0.6943, Training_acc 0.5075\n",
      "Epoch 39. Loss: 0.6943, Test_acc 0.5083\n",
      "Samples 0\n",
      "Epoch 40. Loss: 0.6941, Training_acc 0.5072\n",
      "Epoch 40. Loss: 0.6941, Test_acc 0.5137\n",
      "Samples 0\n",
      "Epoch 41. Loss: 0.6925, Training_acc 0.5071\n",
      "Epoch 41. Loss: 0.6925, Test_acc 0.5044\n",
      "Samples 0\n",
      "Epoch 42. Loss: 0.6939, Training_acc 0.5071\n",
      "Epoch 42. Loss: 0.6939, Test_acc 0.4976\n",
      "Samples 0\n",
      "Epoch 43. Loss: 0.6925, Training_acc 0.5071\n",
      "Epoch 43. Loss: 0.6925, Test_acc 0.5034\n",
      "Samples 0\n",
      "Epoch 44. Loss: 0.6937, Training_acc 0.5073\n",
      "Epoch 44. Loss: 0.6937, Test_acc 0.5234\n",
      "Samples 0\n",
      "Epoch 45. Loss: 0.6943, Training_acc 0.5075\n",
      "Epoch 45. Loss: 0.6943, Test_acc 0.5215\n",
      "Samples 0\n",
      "Epoch 46. Loss: 0.6918, Training_acc 0.5074\n",
      "Epoch 46. Loss: 0.6918, Test_acc 0.5005\n",
      "Samples 0\n",
      "Epoch 47. Loss: 0.6902, Training_acc 0.5077\n",
      "Epoch 47. Loss: 0.6902, Test_acc 0.5347\n",
      "Samples 0\n",
      "Epoch 48. Loss: 0.6914, Training_acc 0.5084\n",
      "Epoch 48. Loss: 0.6914, Test_acc 0.5688\n",
      "Samples 0\n",
      "Epoch 49. Loss: 0.6799, Training_acc 0.5093\n",
      "Epoch 49. Loss: 0.6799, Test_acc 0.5532\n",
      "Samples 0\n",
      "Epoch 50. Loss: 0.6839, Training_acc 0.5101\n",
      "Epoch 50. Loss: 0.6839, Test_acc 0.5649\n",
      "Samples 0\n",
      "Epoch 51. Loss: 0.6846, Training_acc 0.5112\n",
      "Epoch 51. Loss: 0.6846, Test_acc 0.5264\n",
      "Samples 0\n",
      "Epoch 52. Loss: 0.6784, Training_acc 0.5121\n",
      "Epoch 52. Loss: 0.6784, Test_acc 0.5674\n",
      "Samples 0\n",
      "Epoch 53. Loss: 0.6737, Training_acc 0.5136\n",
      "Epoch 53. Loss: 0.6737, Test_acc 0.5757\n",
      "Samples 0\n",
      "Epoch 54. Loss: 0.6603, Training_acc 0.5148\n",
      "Epoch 54. Loss: 0.6603, Test_acc 0.5796\n",
      "Samples 0\n",
      "Epoch 55. Loss: 0.6555, Training_acc 0.516\n",
      "Epoch 55. Loss: 0.6555, Test_acc 0.5684\n",
      "Samples 0\n",
      "Epoch 56. Loss: 0.66, Training_acc 0.5173\n",
      "Epoch 56. Loss: 0.66, Test_acc 0.5908\n",
      "Samples 0\n",
      "Epoch 57. Loss: 0.671, Training_acc 0.5186\n",
      "Epoch 57. Loss: 0.671, Test_acc 0.5586\n",
      "Samples 0\n",
      "Epoch 58. Loss: 0.6688, Training_acc 0.52\n",
      "Epoch 58. Loss: 0.6688, Test_acc 0.5923\n",
      "Samples 0\n",
      "Epoch 59. Loss: 0.6565, Training_acc 0.5204\n",
      "Epoch 59. Loss: 0.6565, Test_acc 0.4961\n",
      "Samples 0\n",
      "Epoch 60. Loss: 0.6811, Training_acc 0.5212\n",
      "Epoch 60. Loss: 0.6811, Test_acc 0.603\n",
      "Samples 0\n",
      "Epoch 61. Loss: 0.6421, Training_acc 0.5227\n",
      "Epoch 61. Loss: 0.6421, Test_acc 0.5786\n",
      "Samples 0\n",
      "Epoch 62. Loss: 0.689, Training_acc 0.5226\n",
      "Epoch 62. Loss: 0.689, Test_acc 0.5078\n",
      "Samples 0\n",
      "Epoch 63. Loss: 0.6945, Training_acc 0.5222\n",
      "Epoch 63. Loss: 0.6945, Test_acc 0.5029\n",
      "Samples 0\n",
      "Epoch 64. Loss: 0.693, Training_acc 0.522\n",
      "Epoch 64. Loss: 0.693, Test_acc 0.501\n",
      "Samples 0\n",
      "Epoch 65. Loss: 0.6952, Training_acc 0.5216\n",
      "Epoch 65. Loss: 0.6952, Test_acc 0.5044\n",
      "Samples 0\n",
      "Epoch 66. Loss: 0.6934, Training_acc 0.5213\n",
      "Epoch 66. Loss: 0.6934, Test_acc 0.499\n",
      "Samples 0\n",
      "Epoch 67. Loss: 0.6953, Training_acc 0.521\n",
      "Epoch 67. Loss: 0.6953, Test_acc 0.501\n",
      "Samples 0\n",
      "Epoch 68. Loss: 0.6916, Training_acc 0.5208\n",
      "Epoch 68. Loss: 0.6916, Test_acc 0.5054\n",
      "Samples 0\n",
      "Epoch 69. Loss: 0.6928, Training_acc 0.5205\n",
      "Epoch 69. Loss: 0.6928, Test_acc 0.5229\n",
      "Samples 0\n",
      "Epoch 70. Loss: 0.6872, Training_acc 0.521\n",
      "Epoch 70. Loss: 0.6872, Test_acc 0.5977\n",
      "Samples 0\n",
      "Epoch 71. Loss: 0.6501, Training_acc 0.5225\n",
      "Epoch 71. Loss: 0.6501, Test_acc 0.6089\n",
      "Samples 0\n",
      "Epoch 72. Loss: 0.6354, Training_acc 0.5241\n",
      "Epoch 72. Loss: 0.6354, Test_acc 0.6128\n",
      "Samples 0\n",
      "Epoch 73. Loss: 0.641, Training_acc 0.525\n",
      "Epoch 73. Loss: 0.641, Test_acc 0.5435\n",
      "Samples 0\n",
      "Epoch 74. Loss: 0.6712, Training_acc 0.5261\n",
      "Epoch 74. Loss: 0.6712, Test_acc 0.5972\n",
      "Samples 0\n",
      "Epoch 75. Loss: 0.6302, Training_acc 0.5273\n",
      "Epoch 75. Loss: 0.6302, Test_acc 0.6011\n",
      "Samples 0\n",
      "Epoch 76. Loss: 0.6437, Training_acc 0.5287\n",
      "Epoch 76. Loss: 0.6437, Test_acc 0.6016\n",
      "Samples 0\n",
      "Epoch 77. Loss: 0.6348, Training_acc 0.5299\n",
      "Epoch 77. Loss: 0.6348, Test_acc 0.5161\n",
      "Samples 0\n",
      "Epoch 78. Loss: 0.6833, Training_acc 0.5305\n",
      "Epoch 78. Loss: 0.6833, Test_acc 0.6025\n",
      "Samples 0\n",
      "Epoch 79. Loss: 0.6301, Training_acc 0.532\n",
      "Epoch 79. Loss: 0.6301, Test_acc 0.6162\n",
      "Samples 0\n",
      "Epoch 80. Loss: 0.64, Training_acc 0.5334\n",
      "Epoch 80. Loss: 0.64, Test_acc 0.6313\n",
      "Samples 0\n",
      "Epoch 81. Loss: 0.6206, Training_acc 0.5348\n",
      "Epoch 81. Loss: 0.6206, Test_acc 0.6338\n",
      "Samples 0\n",
      "Epoch 82. Loss: 0.6342, Training_acc 0.5363\n",
      "Epoch 82. Loss: 0.6342, Test_acc 0.6143\n",
      "Samples 0\n",
      "Epoch 83. Loss: 0.59, Training_acc 0.5378\n",
      "Epoch 83. Loss: 0.59, Test_acc 0.6133\n",
      "Samples 0\n",
      "Epoch 84. Loss: 0.6045, Training_acc 0.5392\n",
      "Epoch 84. Loss: 0.6045, Test_acc 0.6401\n",
      "Samples 0\n",
      "Epoch 85. Loss: 0.575, Training_acc 0.5407\n",
      "Epoch 85. Loss: 0.575, Test_acc 0.5737\n",
      "Samples 0\n",
      "Epoch 86. Loss: 0.6561, Training_acc 0.5421\n",
      "Epoch 86. Loss: 0.6561, Test_acc 0.6304\n",
      "Samples 0\n",
      "Epoch 87. Loss: 0.6112, Training_acc 0.5436\n",
      "Epoch 87. Loss: 0.6112, Test_acc 0.6338\n"
     ]
    },
    {
     "name": "stdout",
     "output_type": "stream",
     "text": [
      "Samples 0\n",
      "Epoch 88. Loss: 0.6134, Training_acc 0.5435\n",
      "Epoch 88. Loss: 0.6134, Test_acc 0.4966\n",
      "Samples 0\n",
      "Epoch 89. Loss: 0.6956, Training_acc 0.543\n",
      "Epoch 89. Loss: 0.6956, Test_acc 0.5005\n",
      "Samples 0\n",
      "Epoch 90. Loss: 0.6963, Training_acc 0.5425\n",
      "Epoch 90. Loss: 0.6963, Test_acc 0.5054\n",
      "Samples 0\n",
      "Epoch 91. Loss: 0.6923, Training_acc 0.5421\n",
      "Epoch 91. Loss: 0.6923, Test_acc 0.5098\n",
      "Samples 0\n",
      "Epoch 92. Loss: 0.6931, Training_acc 0.5418\n",
      "Epoch 92. Loss: 0.6931, Test_acc 0.5024\n",
      "Samples 0\n",
      "Epoch 93. Loss: 0.6935, Training_acc 0.5415\n",
      "Epoch 93. Loss: 0.6935, Test_acc 0.5171\n",
      "Samples 0\n",
      "Epoch 94. Loss: 0.6927, Training_acc 0.5413\n",
      "Epoch 94. Loss: 0.6927, Test_acc 0.5391\n",
      "Samples 0\n",
      "Epoch 95. Loss: 0.6894, Training_acc 0.5414\n",
      "Epoch 95. Loss: 0.6894, Test_acc 0.5479\n",
      "Samples 0\n",
      "Epoch 96. Loss: 0.6922, Training_acc 0.5415\n",
      "Epoch 96. Loss: 0.6922, Test_acc 0.5044\n",
      "Samples 0\n",
      "Epoch 97. Loss: 0.7012, Training_acc 0.5412\n",
      "Epoch 97. Loss: 0.7012, Test_acc 0.5156\n",
      "Samples 0\n",
      "Epoch 98. Loss: 0.6968, Training_acc 0.5408\n",
      "Epoch 98. Loss: 0.6968, Test_acc 0.5039\n",
      "Samples 0\n",
      "Epoch 99. Loss: 0.6923, Training_acc 0.5409\n",
      "Epoch 99. Loss: 0.6923, Test_acc 0.5752\n",
      "Samples 0\n",
      "Epoch 100. Loss: 0.6655, Training_acc 0.5417\n",
      "Epoch 100. Loss: 0.6655, Test_acc 0.5825\n",
      "Samples 0\n",
      "Epoch 101. Loss: 0.6708, Training_acc 0.5425\n",
      "Epoch 101. Loss: 0.6708, Test_acc 0.6104\n",
      "Samples 0\n",
      "Epoch 102. Loss: 0.6198, Training_acc 0.5438\n",
      "Epoch 102. Loss: 0.6198, Test_acc 0.6084\n",
      "Samples 0\n",
      "Epoch 103. Loss: 0.6044, Training_acc 0.5451\n",
      "Epoch 103. Loss: 0.6044, Test_acc 0.626\n",
      "Samples 0\n",
      "Epoch 104. Loss: 0.5888, Training_acc 0.5464\n",
      "Epoch 104. Loss: 0.5888, Test_acc 0.6274\n",
      "Samples 0\n",
      "Epoch 105. Loss: 0.5854, Training_acc 0.5476\n",
      "Epoch 105. Loss: 0.5854, Test_acc 0.5464\n",
      "Samples 0\n",
      "Epoch 106. Loss: 0.636, Training_acc 0.5488\n",
      "Epoch 106. Loss: 0.636, Test_acc 0.6367\n",
      "Samples 0\n",
      "Epoch 107. Loss: 0.5813, Training_acc 0.5502\n",
      "Epoch 107. Loss: 0.5813, Test_acc 0.6377\n",
      "Samples 0\n",
      "Epoch 108. Loss: 0.5699, Training_acc 0.5514\n",
      "Epoch 108. Loss: 0.5699, Test_acc 0.5947\n",
      "Samples 0\n",
      "Epoch 109. Loss: 0.6197, Training_acc 0.5527\n",
      "Epoch 109. Loss: 0.6197, Test_acc 0.6216\n",
      "Samples 0\n",
      "Epoch 110. Loss: 0.5696, Training_acc 0.5539\n",
      "Epoch 110. Loss: 0.5696, Test_acc 0.6377\n",
      "Samples 0\n",
      "Epoch 111. Loss: 0.5631, Training_acc 0.5553\n",
      "Epoch 111. Loss: 0.5631, Test_acc 0.6353\n",
      "Samples 0\n",
      "Epoch 112. Loss: 0.57, Training_acc 0.5567\n",
      "Epoch 112. Loss: 0.57, Test_acc 0.6318\n",
      "Samples 0\n",
      "Epoch 113. Loss: 0.5091, Training_acc 0.5581\n",
      "Epoch 113. Loss: 0.5091, Test_acc 0.6382\n",
      "Samples 0\n",
      "Epoch 114. Loss: 0.5444, Training_acc 0.5594\n",
      "Epoch 114. Loss: 0.5444, Test_acc 0.6416\n",
      "Samples 0\n",
      "Epoch 115. Loss: 0.5447, Training_acc 0.5608\n",
      "Epoch 115. Loss: 0.5447, Test_acc 0.6406\n",
      "Samples 0\n",
      "Epoch 116. Loss: 0.5487, Training_acc 0.562\n",
      "Epoch 116. Loss: 0.5487, Test_acc 0.6196\n",
      "Samples 0\n",
      "Epoch 117. Loss: 0.5408, Training_acc 0.5633\n",
      "Epoch 117. Loss: 0.5408, Test_acc 0.6255\n",
      "Samples 0\n",
      "Epoch 118. Loss: 0.5476, Training_acc 0.5645\n",
      "Epoch 118. Loss: 0.5476, Test_acc 0.6304\n",
      "Samples 0\n",
      "Epoch 119. Loss: 0.5368, Training_acc 0.5658\n",
      "Epoch 119. Loss: 0.5368, Test_acc 0.6079\n",
      "Samples 0\n",
      "Epoch 120. Loss: 0.5331, Training_acc 0.5672\n",
      "Epoch 120. Loss: 0.5331, Test_acc 0.6304\n",
      "Samples 0\n",
      "Epoch 121. Loss: 0.5239, Training_acc 0.5686\n",
      "Epoch 121. Loss: 0.5239, Test_acc 0.6372\n",
      "Samples 0\n",
      "Epoch 122. Loss: 0.4863, Training_acc 0.5701\n",
      "Epoch 122. Loss: 0.4863, Test_acc 0.6431\n",
      "Samples 0\n",
      "Epoch 123. Loss: 0.5314, Training_acc 0.5715\n",
      "Epoch 123. Loss: 0.5314, Test_acc 0.6401\n",
      "Samples 0\n",
      "Epoch 124. Loss: 0.5381, Training_acc 0.5727\n",
      "Epoch 124. Loss: 0.5381, Test_acc 0.6328\n",
      "Samples 0\n",
      "Epoch 125. Loss: 0.4854, Training_acc 0.5741\n",
      "Epoch 125. Loss: 0.4854, Test_acc 0.626\n",
      "Samples 0\n",
      "Epoch 126. Loss: 0.5341, Training_acc 0.5755\n",
      "Epoch 126. Loss: 0.5341, Test_acc 0.6162\n",
      "Samples 0\n",
      "Epoch 127. Loss: 0.5084, Training_acc 0.5767\n",
      "Epoch 127. Loss: 0.5084, Test_acc 0.6201\n",
      "Samples 0\n",
      "Epoch 128. Loss: 0.4874, Training_acc 0.5781\n",
      "Epoch 128. Loss: 0.4874, Test_acc 0.6387\n",
      "Samples 0\n",
      "Epoch 129. Loss: 0.4603, Training_acc 0.5796\n",
      "Epoch 129. Loss: 0.4603, Test_acc 0.6294\n",
      "Samples 0\n",
      "Epoch 130. Loss: 0.466, Training_acc 0.5811\n",
      "Epoch 130. Loss: 0.466, Test_acc 0.626\n",
      "Samples 0\n",
      "Epoch 131. Loss: 0.4843, Training_acc 0.5825\n",
      "Epoch 131. Loss: 0.4843, Test_acc 0.6401\n",
      "Samples 0\n",
      "Epoch 132. Loss: 0.4921, Training_acc 0.584\n",
      "Epoch 132. Loss: 0.4921, Test_acc 0.6313\n",
      "Samples 0\n",
      "Epoch 133. Loss: 0.4561, Training_acc 0.5855\n",
      "Epoch 133. Loss: 0.4561, Test_acc 0.6245\n",
      "Samples 0\n",
      "Epoch 134. Loss: 0.4849, Training_acc 0.5868\n",
      "Epoch 134. Loss: 0.4849, Test_acc 0.6138\n",
      "Samples 0\n",
      "Epoch 135. Loss: 0.4642, Training_acc 0.5884\n",
      "Epoch 135. Loss: 0.4642, Test_acc 0.625\n",
      "Samples 0\n",
      "Epoch 136. Loss: 0.4301, Training_acc 0.5898\n",
      "Epoch 136. Loss: 0.4301, Test_acc 0.6216\n",
      "Samples 0\n",
      "Epoch 137. Loss: 0.4361, Training_acc 0.5914\n",
      "Epoch 137. Loss: 0.4361, Test_acc 0.626\n",
      "Samples 0\n",
      "Epoch 138. Loss: 0.4239, Training_acc 0.5927\n",
      "Epoch 138. Loss: 0.4239, Test_acc 0.6216\n",
      "Samples 0\n",
      "Epoch 139. Loss: 0.4217, Training_acc 0.5943\n",
      "Epoch 139. Loss: 0.4217, Test_acc 0.6284\n",
      "Samples 0\n",
      "Epoch 140. Loss: 0.3792, Training_acc 0.596\n",
      "Epoch 140. Loss: 0.3792, Test_acc 0.6289\n",
      "Samples 0\n",
      "Epoch 141. Loss: 0.3766, Training_acc 0.5975\n",
      "Epoch 141. Loss: 0.3766, Test_acc 0.6318\n",
      "Samples 0\n",
      "Epoch 142. Loss: 0.3976, Training_acc 0.5992\n",
      "Epoch 142. Loss: 0.3976, Test_acc 0.6367\n",
      "Samples 0\n",
      "Epoch 143. Loss: 0.4268, Training_acc 0.6008\n",
      "Epoch 143. Loss: 0.4268, Test_acc 0.6309\n",
      "Samples 0\n",
      "Epoch 144. Loss: 0.3727, Training_acc 0.6023\n",
      "Epoch 144. Loss: 0.3727, Test_acc 0.6309\n",
      "Samples 0\n",
      "Epoch 145. Loss: 0.3986, Training_acc 0.6039\n",
      "Epoch 145. Loss: 0.3986, Test_acc 0.6245\n",
      "Samples 0\n",
      "Epoch 146. Loss: 0.3605, Training_acc 0.6055\n",
      "Epoch 146. Loss: 0.3605, Test_acc 0.6328\n",
      "Samples 0\n",
      "Epoch 147. Loss: 0.3142, Training_acc 0.6073\n",
      "Epoch 147. Loss: 0.3142, Test_acc 0.6309\n",
      "Samples 0\n",
      "Epoch 148. Loss: 0.3287, Training_acc 0.6089\n",
      "Epoch 148. Loss: 0.3287, Test_acc 0.6323\n",
      "Samples 0\n",
      "Epoch 149. Loss: 0.3194, Training_acc 0.6106\n",
      "Epoch 149. Loss: 0.3194, Test_acc 0.6226\n"
     ]
    }
   ],
   "source": [
    "net.collect_params().initialize(mx.init.Xavier(magnitude=2.24), ctx=ctx)    \n",
    "trainer = gluon.Trainer(net.collect_params(), 'sgd', \n",
    "                  {'learning_rate': LEARNING_RATE,\n",
    "                  'wd':WDECAY, \n",
    "                   'momentum':MOMENTUM})\n",
    "\n",
    "train_accuracy = mx.metric.Accuracy()\n",
    "\n",
    "for e in range(start_epoch, number_epochs):\n",
    "    \n",
    "    if e % 100 == 0:\n",
    "        trainer.set_learning_rate(trainer.learning_rate * 0.9)\n",
    "    \n",
    "    for i, (review, label) in enumerate(train_dataloader):\n",
    "        review = review.as_in_context(ctx)\n",
    "        label = label.as_in_context(ctx)\n",
    "\n",
    "        with autograd.record(train_mode=True):\n",
    "            output = net(review)\n",
    "            loss = softmax_cross_entropy(output, label)\n",
    "        loss.backward()\n",
    "        trainer.step(review.shape[0])\n",
    "\n",
    "        prediction = nd.argmax(output, axis=1)\n",
    "        train_accuracy.update(preds=prediction, labels=label)\n",
    "\n",
    "        # moving average of the loss\n",
    "        curr_loss = nd.mean(loss).asscalar()\n",
    "        moving_loss = (curr_loss if (i == 0) \n",
    "                       else (1 - smoothing_constant) * moving_loss + (smoothing_constant) * curr_loss)\n",
    "\n",
    "\n",
    "    train_accuracy.update(preds=prediction, labels=label)\n",
    "    test_accuracy = evaluate_accuracy(test_dataloader, net)\n",
    "\n",
    "    print(\"Epoch %s. Loss: %s, Training_acc %s\" % (e, round(moving_loss, 4), round(train_accuracy.get()[1],4)))\n",
    "    print(\"Epoch %s. Loss: %s, Test_acc %s\" % (e, round(moving_loss, 4), round(test_accuracy,4)))"
   ]
  },
  {
   "cell_type": "code",
   "execution_count": 43,
   "metadata": {},
   "outputs": [],
   "source": [
    "#OVER 0.65"
   ]
  },
  {
   "cell_type": "code",
   "execution_count": null,
   "metadata": {},
   "outputs": [],
   "source": []
  },
  {
   "cell_type": "code",
   "execution_count": 44,
   "metadata": {},
   "outputs": [],
   "source": [
    "net.export('char-cnn')"
   ]
  },
  {
   "cell_type": "code",
   "execution_count": 45,
   "metadata": {},
   "outputs": [],
   "source": [
    "model = gluon.nn.SymbolBlock.imports(\"char-cnn-symbol.json\", ['data'], \"char-cnn-0000.params\")"
   ]
  },
  {
   "cell_type": "code",
   "execution_count": 46,
   "metadata": {},
   "outputs": [],
   "source": [
    "categories = list(categories)"
   ]
  },
  {
   "cell_type": "code",
   "execution_count": 47,
   "metadata": {},
   "outputs": [
    {
     "data": {
      "text/plain": [
       "'the film provides some great insight into the neurotic mindset of all comics even those who have reached the absolute top of the game'"
      ]
     },
     "execution_count": 47,
     "metadata": {},
     "output_type": "execute_result"
    }
   ],
   "source": [
    "data['X'][5]"
   ]
  },
  {
   "cell_type": "code",
   "execution_count": 48,
   "metadata": {},
   "outputs": [
    {
     "data": {
      "text/plain": [
       "1"
      ]
     },
     "execution_count": 48,
     "metadata": {},
     "output_type": "execute_result"
    }
   ],
   "source": [
    "data['Y'][5]"
   ]
  },
  {
   "cell_type": "code",
   "execution_count": null,
   "metadata": {},
   "outputs": [],
   "source": []
  },
  {
   "cell_type": "code",
   "execution_count": 49,
   "metadata": {},
   "outputs": [
    {
     "name": "stdout",
     "output_type": "stream",
     "text": [
      "a thoughtful , provocative , insistently humanizing film\n",
      "\n",
      "Category: 1\n",
      "\n",
      "Correct\n"
     ]
    }
   ],
   "source": [
    "import random\n",
    "index = 20 #random.randint(1, len(data))\n",
    "review = data['X'][index]\n",
    "label = categories[int(data['Y'][index])]\n",
    "print(review)\n",
    "print('\\nCategory: {}\\n'.format(label))\n",
    "encoded = nd.array([encode(review)], ctx=ctx)\n",
    "output = net(encoded)\n",
    "predicted = categories[np.argmax(output[0].asnumpy())]\n",
    "if predicted == label:\n",
    "      print('Correct')\n",
    "else:\n",
    "      print('Incorrectly predicted {}'.format(predicted))"
   ]
  },
  {
   "cell_type": "code",
   "execution_count": 50,
   "metadata": {},
   "outputs": [],
   "source": [
    "def predict_sentiment(model, review):\n",
    "    print(review + '\\n')\n",
    "    encoded = nd.array([encode(review)], ctx=mx.cpu())\n",
    "    output = model(encoded)\n",
    "    softmax = nd.exp(output) / nd.sum(nd.exp(output))[0]\n",
    "    predicted = categories[np.argmax(output[0].asnumpy())]\n",
    "    print('Predicted: {}\\n'.format(predicted))\n",
    "    for i, val in enumerate(categories):\n",
    "        print(val, float(int(softmax[0][i].asnumpy()*1000)/10), '%')"
   ]
  },
  {
   "cell_type": "code",
   "execution_count": 51,
   "metadata": {},
   "outputs": [
    {
     "name": "stdout",
     "output_type": "stream",
     "text": [
      "the movie gives\n",
      "\n",
      "Predicted: 1\n",
      "\n",
      "0 22.4 %\n",
      "1 77.5 %\n"
     ]
    }
   ],
   "source": [
    "predict_sentiment(model, 'the movie gives')"
   ]
  },
  {
   "cell_type": "code",
   "execution_count": 52,
   "metadata": {},
   "outputs": [
    {
     "name": "stdout",
     "output_type": "stream",
     "text": [
      "the movie gives good insights\n",
      "\n",
      "Predicted: 1\n",
      "\n",
      "0 8.1 %\n",
      "1 91.8 %\n"
     ]
    }
   ],
   "source": [
    "predict_sentiment(model, 'the movie gives good insights')"
   ]
  },
  {
   "cell_type": "code",
   "execution_count": 53,
   "metadata": {},
   "outputs": [
    {
     "name": "stdout",
     "output_type": "stream",
     "text": [
      "the movie gives the best insight\n",
      "\n",
      "Predicted: 1\n",
      "\n",
      "0 0.0 %\n",
      "1 99.9 %\n"
     ]
    }
   ],
   "source": [
    "predict_sentiment(model, 'the movie gives the best insight')"
   ]
  },
  {
   "cell_type": "code",
   "execution_count": 74,
   "metadata": {},
   "outputs": [
    {
     "name": "stdout",
     "output_type": "stream",
     "text": [
      "the movie was amazing\n",
      "\n",
      "Predicted: 1\n",
      "\n",
      "0 4.4 %\n",
      "1 95.5 %\n"
     ]
    }
   ],
   "source": [
    "predict_sentiment(model, 'the movie was amazing')"
   ]
  },
  {
   "cell_type": "code",
   "execution_count": 55,
   "metadata": {},
   "outputs": [
    {
     "name": "stdout",
     "output_type": "stream",
     "text": [
      "the movie was bad\n",
      "\n",
      "Predicted: 0\n",
      "\n",
      "0 89.0 %\n",
      "1 10.9 %\n"
     ]
    }
   ],
   "source": [
    "predict_sentiment(model, 'the movie was bad')"
   ]
  },
  {
   "cell_type": "code",
   "execution_count": null,
   "metadata": {},
   "outputs": [],
   "source": []
  },
  {
   "cell_type": "markdown",
   "metadata": {},
   "source": [
    "## Model Serve"
   ]
  },
  {
   "cell_type": "code",
   "execution_count": 56,
   "metadata": {},
   "outputs": [],
   "source": [
    "# https://github.com/awslabs/mxnet-model-server/tree/master/examples/gluon_character_cnn"
   ]
  },
  {
   "cell_type": "code",
   "execution_count": null,
   "metadata": {},
   "outputs": [],
   "source": []
  }
 ],
 "metadata": {
  "kernelspec": {
   "display_name": "Python 3",
   "language": "python",
   "name": "python3"
  },
  "language_info": {
   "codemirror_mode": {
    "name": "ipython",
    "version": 3
   },
   "file_extension": ".py",
   "mimetype": "text/x-python",
   "name": "python",
   "nbconvert_exporter": "python",
   "pygments_lexer": "ipython3",
   "version": "3.6.4"
  }
 },
 "nbformat": 4,
 "nbformat_minor": 2
}
