{
 "cells": [
  {
   "cell_type": "code",
   "execution_count": 1,
   "metadata": {},
   "outputs": [],
   "source": [
    "import numpy as np\n",
    "np.set_printoptions(precision=3)"
   ]
  },
  {
   "cell_type": "code",
   "execution_count": 2,
   "metadata": {},
   "outputs": [],
   "source": [
    "import mxnet as mx\n",
    "from mxnet import autograd, nd\n",
    "from mxnet.gluon import nn, rnn"
   ]
  },
  {
   "cell_type": "markdown",
   "metadata": {},
   "source": [
    "## Understanding Vanilla RNN"
   ]
  },
  {
   "cell_type": "code",
   "execution_count": 5,
   "metadata": {},
   "outputs": [],
   "source": [
    "n_hidden_state = 10\n",
    "embedding_input = 5\n",
    "model = rnn.RNN(n_hidden_state, 1, layout = 'NTC', input_size = embedding_input \\\n",
    "              , prefix='mdl_')\n",
    "model.collect_params().initialize(mx.init.Xavier(), ctx = mx.cpu())\n",
    "initial_state = model.begin_state(batch_size = 16)"
   ]
  },
  {
   "cell_type": "markdown",
   "metadata": {},
   "source": [
    "### Hiddens state size"
   ]
  },
  {
   "cell_type": "code",
   "execution_count": 6,
   "metadata": {},
   "outputs": [
    {
     "name": "stdout",
     "output_type": "stream",
     "text": [
      "(10, 10)\n",
      "(10,)\n",
      "(10, 5)\n",
      "(10,)\n"
     ]
    }
   ],
   "source": [
    "print(model.params['mdl_l0_h2h_weight'].data().shape)\n",
    "print(model.params['mdl_l0_h2h_bias'].data().shape)\n",
    "print(model.params['mdl_l0_i2h_weight'].data().shape)\n",
    "print(model.params['mdl_l0_i2h_bias'].data().shape)"
   ]
  },
  {
   "cell_type": "markdown",
   "metadata": {},
   "source": [
    "### $T=1$"
   ]
  },
  {
   "cell_type": "code",
   "execution_count": 5,
   "metadata": {},
   "outputs": [],
   "source": [
    "# Goes only 1 time-step\n",
    "batch_size = 16\n",
    "time_step = 1\n",
    "dat = nd.random.normal(shape =(batch_size, time_step, embedding_input))\n",
    "out, state = model(dat, initial_state)"
   ]
  },
  {
   "cell_type": "code",
   "execution_count": 6,
   "metadata": {},
   "outputs": [
    {
     "data": {
      "text/plain": [
       "\n",
       "[1. 1. 1. 1. 1. 1. 1. 1. 1. 1.]\n",
       "<NDArray 10 @cpu(0)>"
      ]
     },
     "execution_count": 6,
     "metadata": {},
     "output_type": "execute_result"
    }
   ],
   "source": [
    "out[0][0] == state[0][0][0]"
   ]
  },
  {
   "cell_type": "code",
   "execution_count": 7,
   "metadata": {},
   "outputs": [],
   "source": [
    "h2h_weight = model.params['mdl_l0_h2h_weight'].data()\n",
    "h2h_bias = model.params['mdl_l0_h2h_bias'].data()\n",
    "i2h_weight = model.params['mdl_l0_i2h_weight'].data()\n",
    "i2h_bias = model.params['mdl_l0_i2h_bias'].data()"
   ]
  },
  {
   "cell_type": "code",
   "execution_count": 8,
   "metadata": {},
   "outputs": [],
   "source": [
    "res = nd.relu(nd.dot(dat[0][0], i2h_weight, transpose_b = True) + i2h_bias \\\n",
    "      + nd.dot(h2h_weight, initial_state[0][0][0]) + h2h_bias)"
   ]
  },
  {
   "cell_type": "code",
   "execution_count": 9,
   "metadata": {},
   "outputs": [
    {
     "name": "stdout",
     "output_type": "stream",
     "text": [
      "[0.652 0.103 0.    1.276 0.682 0.77  0.788 0.994 0.    0.764]\n",
      "[0.652 0.103 0.    1.276 0.682 0.77  0.788 0.994 0.    0.764]\n",
      "[0.652 0.103 0.    1.276 0.682 0.77  0.788 0.994 0.    0.764]\n"
     ]
    }
   ],
   "source": [
    "print(res.asnumpy())\n",
    "print(out[0][0].asnumpy())\n",
    "print(state[0][0][0].asnumpy())"
   ]
  },
  {
   "cell_type": "markdown",
   "metadata": {},
   "source": [
    "### $T=2$"
   ]
  },
  {
   "cell_type": "code",
   "execution_count": 10,
   "metadata": {},
   "outputs": [],
   "source": [
    "# Goes only 1 time-step\n",
    "batch_size = 16\n",
    "time_step = 2\n",
    "dat = nd.random.normal(shape =(batch_size, time_step, embedding_input))\n",
    "out, state = model(dat, initial_state)"
   ]
  },
  {
   "cell_type": "markdown",
   "metadata": {},
   "source": [
    "> NOTE:  state is the same as the output of the last time step"
   ]
  },
  {
   "cell_type": "code",
   "execution_count": 11,
   "metadata": {},
   "outputs": [
    {
     "name": "stdout",
     "output_type": "stream",
     "text": [
      "[0.    0.    0.372 0.    0.    0.    0.    0.    0.383 0.   ]\n",
      "[0.    0.    0.372 0.    0.    0.    0.    0.    0.383 0.   ]\n"
     ]
    }
   ],
   "source": [
    "print(out[0][1].asnumpy())\n",
    "print(state[0][0][0].asnumpy())"
   ]
  },
  {
   "cell_type": "code",
   "execution_count": 12,
   "metadata": {},
   "outputs": [],
   "source": [
    "h2h_weight = model.params['mdl_l0_h2h_weight'].data()\n",
    "h2h_bias = model.params['mdl_l0_h2h_bias'].data()\n",
    "i2h_weight = model.params['mdl_l0_i2h_weight'].data()\n",
    "i2h_bias = model.params['mdl_l0_i2h_bias'].data()"
   ]
  },
  {
   "cell_type": "code",
   "execution_count": 13,
   "metadata": {},
   "outputs": [],
   "source": [
    "out_t1 = nd.relu(nd.dot(dat[0][0], i2h_weight, transpose_b = True) + i2h_bias \\\n",
    "      + nd.dot(h2h_weight, initial_state[0][0][0]) + h2h_bias)"
   ]
  },
  {
   "cell_type": "code",
   "execution_count": 14,
   "metadata": {},
   "outputs": [
    {
     "name": "stdout",
     "output_type": "stream",
     "text": [
      "[0.947 0.522 0.032 0.    0.    0.    0.    0.463 1.607 0.   ]\n",
      "[0.947 0.522 0.032 0.    0.    0.    0.    0.463 1.607 0.   ]\n"
     ]
    }
   ],
   "source": [
    "print(out_t1.asnumpy())\n",
    "print(out[0][0].asnumpy())"
   ]
  },
  {
   "cell_type": "code",
   "execution_count": 15,
   "metadata": {},
   "outputs": [],
   "source": [
    "out_t2 = nd.relu(nd.dot(dat[0][1], i2h_weight, transpose_b = True) + i2h_bias \\\n",
    "      + nd.dot(h2h_weight, out_t1) + h2h_bias)"
   ]
  },
  {
   "cell_type": "code",
   "execution_count": 16,
   "metadata": {},
   "outputs": [
    {
     "name": "stdout",
     "output_type": "stream",
     "text": [
      "[0.    0.    0.372 0.    0.    0.    0.    0.    0.383 0.   ]\n",
      "[0.    0.    0.372 0.    0.    0.    0.    0.    0.383 0.   ]\n",
      "[0.    0.    0.372 0.    0.    0.    0.    0.    0.383 0.   ]\n"
     ]
    }
   ],
   "source": [
    "print(out_t2.asnumpy()) # calculation\n",
    "print(state[0][0][0].asnumpy()) # State at last time step\n",
    "print(out[0][1].asnumpy()) # Last time step"
   ]
  },
  {
   "cell_type": "markdown",
   "metadata": {},
   "source": [
    "## Bidirectional LSTM"
   ]
  },
  {
   "cell_type": "code",
   "execution_count": 17,
   "metadata": {},
   "outputs": [],
   "source": [
    "n_hidden_state = 10\n",
    "embedding_input = 5\n",
    "model = rnn.RNN(n_hidden_state, 1, layout = 'NTC', input_size = embedding_input, bidirectional = True, prefix='mdl_')\n",
    "model.collect_params().initialize(mx.init.Xavier(), ctx = mx.cpu())\n",
    "initial_state = model.begin_state(batch_size = 16) # list of length 1 with shape (2, 16, 10)"
   ]
  },
  {
   "cell_type": "code",
   "execution_count": 18,
   "metadata": {},
   "outputs": [
    {
     "data": {
      "text/plain": [
       "mdl_ (\n",
       "  Parameter mdl_l0_i2h_weight (shape=(10, 5), dtype=<class 'numpy.float32'>)\n",
       "  Parameter mdl_l0_h2h_weight (shape=(10, 10), dtype=<class 'numpy.float32'>)\n",
       "  Parameter mdl_l0_i2h_bias (shape=(10,), dtype=<class 'numpy.float32'>)\n",
       "  Parameter mdl_l0_h2h_bias (shape=(10,), dtype=<class 'numpy.float32'>)\n",
       "  Parameter mdl_r0_i2h_weight (shape=(10, 5), dtype=<class 'numpy.float32'>)\n",
       "  Parameter mdl_r0_h2h_weight (shape=(10, 10), dtype=<class 'numpy.float32'>)\n",
       "  Parameter mdl_r0_i2h_bias (shape=(10,), dtype=<class 'numpy.float32'>)\n",
       "  Parameter mdl_r0_h2h_bias (shape=(10,), dtype=<class 'numpy.float32'>)\n",
       ")"
      ]
     },
     "execution_count": 18,
     "metadata": {},
     "output_type": "execute_result"
    }
   ],
   "source": [
    "model.params"
   ]
  },
  {
   "cell_type": "code",
   "execution_count": 19,
   "metadata": {},
   "outputs": [],
   "source": [
    "# Goes only 1 time-step\n",
    "batch_size = 16\n",
    "time_step = 2\n",
    "dat = nd.random.normal(shape =(batch_size, time_step, embedding_input))\n",
    "out, state = model(dat, initial_state)"
   ]
  },
  {
   "cell_type": "code",
   "execution_count": 20,
   "metadata": {},
   "outputs": [
    {
     "data": {
      "text/plain": [
       "\n",
       "[0.231 0.35  0.    0.    0.    0.482 0.    0.    0.755 0.365 0.    0.293\n",
       " 0.266 0.    0.    0.375 0.    0.    0.079 0.088]\n",
       "<NDArray 20 @cpu(0)>"
      ]
     },
     "execution_count": 20,
     "metadata": {},
     "output_type": "execute_result"
    }
   ],
   "source": [
    "# hidden state at t=1 (left, right) concatenated\n",
    "out[0][0]"
   ]
  },
  {
   "cell_type": "code",
   "execution_count": 21,
   "metadata": {},
   "outputs": [
    {
     "data": {
      "text/plain": [
       "mdl_ (\n",
       "  Parameter mdl_l0_i2h_weight (shape=(10, 5), dtype=<class 'numpy.float32'>)\n",
       "  Parameter mdl_l0_h2h_weight (shape=(10, 10), dtype=<class 'numpy.float32'>)\n",
       "  Parameter mdl_l0_i2h_bias (shape=(10,), dtype=<class 'numpy.float32'>)\n",
       "  Parameter mdl_l0_h2h_bias (shape=(10,), dtype=<class 'numpy.float32'>)\n",
       "  Parameter mdl_r0_i2h_weight (shape=(10, 5), dtype=<class 'numpy.float32'>)\n",
       "  Parameter mdl_r0_h2h_weight (shape=(10, 10), dtype=<class 'numpy.float32'>)\n",
       "  Parameter mdl_r0_i2h_bias (shape=(10,), dtype=<class 'numpy.float32'>)\n",
       "  Parameter mdl_r0_h2h_bias (shape=(10,), dtype=<class 'numpy.float32'>)\n",
       ")"
      ]
     },
     "execution_count": 21,
     "metadata": {},
     "output_type": "execute_result"
    }
   ],
   "source": [
    "model.params"
   ]
  },
  {
   "cell_type": "code",
   "execution_count": 22,
   "metadata": {},
   "outputs": [],
   "source": [
    "h2h_l_weight = model.params['mdl_l0_h2h_weight'].data()\n",
    "h2h_l_bias = model.params['mdl_l0_h2h_bias'].data()\n",
    "i2h_l_weight = model.params['mdl_l0_i2h_weight'].data()\n",
    "i2h_l_bias = model.params['mdl_l0_i2h_bias'].data()\n",
    "h2h_r_weight = model.params['mdl_r0_h2h_weight'].data()\n",
    "h2h_r_bias = model.params['mdl_r0_h2h_bias'].data()\n",
    "i2h_r_weight = model.params['mdl_r0_i2h_weight'].data()\n",
    "i2h_r_bias = model.params['mdl_r0_i2h_bias'].data()"
   ]
  },
  {
   "cell_type": "markdown",
   "metadata": {},
   "source": [
    "### $T = 1$"
   ]
  },
  {
   "cell_type": "code",
   "execution_count": 23,
   "metadata": {},
   "outputs": [
    {
     "name": "stdout",
     "output_type": "stream",
     "text": [
      "\n",
      "[0.231 0.35  0.    0.    0.    0.482 0.    0.    0.755 0.365]\n",
      "<NDArray 10 @cpu(0)>\n"
     ]
    }
   ],
   "source": [
    "out_t1_l = nd.relu(nd.dot(dat[0][0], i2h_l_weight, transpose_b = True) + i2h_l_bias \\\n",
    "      + nd.dot(h2h_l_weight, initial_state[0][0][0]) + h2h_l_bias)\n",
    "print(out_t1_l)"
   ]
  },
  {
   "cell_type": "code",
   "execution_count": 24,
   "metadata": {},
   "outputs": [
    {
     "name": "stdout",
     "output_type": "stream",
     "text": [
      "\n",
      "[0.416 1.001 0.163 0.    0.299 0.    0.    0.163 0.    0.   ]\n",
      "<NDArray 10 @cpu(0)>\n",
      "\n",
      "[0.    0.293 0.266 0.    0.    0.375 0.    0.    0.079 0.088]\n",
      "<NDArray 10 @cpu(0)>\n"
     ]
    }
   ],
   "source": [
    "\n",
    "out_t2_r = nd.relu(nd.dot(dat[0][1], i2h_r_weight, transpose_b = True) + i2h_r_bias \\\n",
    "      + nd.dot(h2h_r_weight, initial_state[0][0][1]) + h2h_r_bias)\n",
    "out_t1_r = nd.relu(nd.dot(dat[0][0], i2h_r_weight, transpose_b = True) + i2h_r_bias \\\n",
    "      + nd.dot(h2h_r_weight, out_t2_r) + h2h_r_bias)\n",
    "print(out_t2_r)\n",
    "print(out_t1_r)"
   ]
  },
  {
   "cell_type": "code",
   "execution_count": 25,
   "metadata": {},
   "outputs": [
    {
     "name": "stdout",
     "output_type": "stream",
     "text": [
      "[0.231 0.35  0.    0.    0.    0.482 0.    0.    0.755 0.365 0.    0.293\n",
      " 0.266 0.    0.    0.375 0.    0.    0.079 0.088]\n",
      "[0.231 0.35  0.    0.    0.    0.482 0.    0.    0.755 0.365 0.    0.293\n",
      " 0.266 0.    0.    0.375 0.    0.    0.079 0.088]\n"
     ]
    }
   ],
   "source": [
    "print(out[0][0].asnumpy())\n",
    "print(nd.concat(out_t1_l, out_t1_r, dim = 0).asnumpy())"
   ]
  },
  {
   "cell_type": "markdown",
   "metadata": {},
   "source": [
    "### $T = 2$"
   ]
  },
  {
   "cell_type": "code",
   "execution_count": 26,
   "metadata": {},
   "outputs": [
    {
     "name": "stdout",
     "output_type": "stream",
     "text": [
      "\n",
      "[0.    0.    0.388 0.    0.926 0.106 0.671 0.    0.    0.   ]\n",
      "<NDArray 10 @cpu(0)>\n"
     ]
    }
   ],
   "source": [
    "out_t2_l = nd.relu(nd.dot(dat[0][1], i2h_l_weight, transpose_b = True) + i2h_l_bias \\\n",
    "      + nd.dot(h2h_l_weight, out_t1_l) + h2h_l_bias)\n",
    "print(out_t2_l)"
   ]
  },
  {
   "cell_type": "code",
   "execution_count": 27,
   "metadata": {},
   "outputs": [
    {
     "name": "stdout",
     "output_type": "stream",
     "text": [
      "[0.    0.    0.388 0.    0.926 0.106 0.671 0.    0.    0.    0.416 1.001\n",
      " 0.163 0.    0.299 0.    0.    0.163 0.    0.   ]\n",
      "[0.    0.    0.388 0.    0.926 0.106 0.671 0.    0.    0.    0.416 1.001\n",
      " 0.163 0.    0.299 0.    0.    0.163 0.    0.   ]\n"
     ]
    }
   ],
   "source": [
    "print(out[0][1].asnumpy())\n",
    "print(nd.concat(out_t2_l, out_t2_r, dim = 0).asnumpy())"
   ]
  },
  {
   "cell_type": "markdown",
   "metadata": {},
   "source": [
    "> NOTE: Hidden state\n",
    ">    * The final hidden state for left RNN is the one at $t = 2$\n",
    ">    * The final hidden state for right RNN is the one at $t = 1$"
   ]
  },
  {
   "cell_type": "code",
   "execution_count": 28,
   "metadata": {},
   "outputs": [
    {
     "name": "stdout",
     "output_type": "stream",
     "text": [
      "[0.    0.    0.388 0.    0.926 0.106 0.671 0.    0.    0.    0.    0.293\n",
      " 0.266 0.    0.    0.375 0.    0.    0.079 0.088]\n",
      "[0.    0.    0.388 0.    0.926 0.106 0.671 0.    0.    0.    0.    0.293\n",
      " 0.266 0.    0.    0.375 0.    0.    0.079 0.088]\n"
     ]
    }
   ],
   "source": [
    "print(nd.concat(out_t2_l, out_t1_r, dim = 0).asnumpy())\n",
    "print(nd.concat(state[0][0][0], state[0][1][0], dim = 0).asnumpy())"
   ]
  },
  {
   "cell_type": "markdown",
   "metadata": {},
   "source": [
    "## Stacking"
   ]
  },
  {
   "cell_type": "code",
   "execution_count": 4,
   "metadata": {},
   "outputs": [],
   "source": [
    "n_hidden_state = 10\n",
    "embedding_input = 5\n",
    "model = rnn.RNN(n_hidden_state, 2, layout = 'NTC' \\\n",
    "              , input_size = embedding_input, bidirectional = False, prefix='mdl_')\n",
    "model.collect_params().initialize(mx.init.Xavier(), ctx = mx.cpu())\n",
    "initial_state = model.begin_state(batch_size = 16) # list of length 1 with shape (2, 16, 10)"
   ]
  },
  {
   "cell_type": "code",
   "execution_count": 15,
   "metadata": {},
   "outputs": [],
   "source": [
    "i2h_weight_0 = model.params['mdl_l0_i2h_weight'].data()\n",
    "h2h_weight_0 = model.params['mdl_l0_h2h_weight'].data()\n",
    "i2h_bias_0 = model.params['mdl_l0_i2h_bias'].data()\n",
    "h2h_bias_0 = model.params['mdl_l0_h2h_bias'].data()\n",
    "i2h_weight_1 = model.params['mdl_l1_i2h_weight'].data()\n",
    "h2h_weight_1 = model.params['mdl_l1_h2h_weight'].data()\n",
    "i2h_bias_1 = model.params['mdl_l1_i2h_bias'].data()\n",
    "h2h_bias_1 = model.params['mdl_l1_h2h_bias'].data()"
   ]
  },
  {
   "cell_type": "code",
   "execution_count": 16,
   "metadata": {},
   "outputs": [],
   "source": [
    "# Goes only 1 time-step\n",
    "batch_size = 16\n",
    "time_step = 2\n",
    "dat = nd.random.normal(shape =(batch_size, time_step, embedding_input))\n",
    "out, state = model(dat, initial_state)"
   ]
  },
  {
   "cell_type": "code",
   "execution_count": 50,
   "metadata": {},
   "outputs": [
    {
     "name": "stdout",
     "output_type": "stream",
     "text": [
      "[0.061 0.    0.103 0.238 0.    0.    0.    0.    0.    0.   ]\n",
      "[0.258 0.086 0.    0.372 0.    0.    0.002 0.212 0.    0.   ]\n"
     ]
    }
   ],
   "source": [
    "print(out[0][0].asnumpy()) # Layer 1 at time 1\n",
    "print(out[0][1].asnumpy()) # Layer 1 at time 2"
   ]
  },
  {
   "cell_type": "code",
   "execution_count": 51,
   "metadata": {},
   "outputs": [
    {
     "name": "stdout",
     "output_type": "stream",
     "text": [
      "[0.    0.008 0.638 0.469 0.171 0.583 0.46  0.141 0.36  0.5  ]\n",
      "[0.258 0.086 0.    0.372 0.    0.    0.002 0.212 0.    0.   ]\n"
     ]
    }
   ],
   "source": [
    "print(state[0][0][0].asnumpy()) # Layer 0 at time 2\n",
    "print(state[0][1][0].asnumpy()) # Layer 1 at time 2"
   ]
  },
  {
   "cell_type": "markdown",
   "metadata": {},
   "source": [
    "### $T=1$"
   ]
  },
  {
   "cell_type": "code",
   "execution_count": 52,
   "metadata": {},
   "outputs": [
    {
     "name": "stdout",
     "output_type": "stream",
     "text": [
      "[0.    0.    0.143 0.    0.045 0.    0.179 0.744 0.    0.   ]\n",
      "[0.061 0.    0.103 0.238 0.    0.    0.    0.    0.    0.   ]\n"
     ]
    }
   ],
   "source": [
    "out_0_t1 = nd.relu(nd.dot(dat[0][0], i2h_weight_0, transpose_b = True) + i2h_bias_0 \\\n",
    "      + nd.dot(h2h_weight_0, initial_state[0][0][0]) + h2h_bias_0)\n",
    "out_1_t1 = nd.relu(nd.dot(out_0_t1, i2h_weight_1, transpose_b = True) + i2h_bias_1 \\\n",
    "      + nd.dot(h2h_weight_1, initial_state[0][1][0]) + h2h_bias_1)\n",
    "\n",
    "print(out_0_t1.asnumpy())\n",
    "print(out_1_t1.asnumpy())"
   ]
  },
  {
   "cell_type": "markdown",
   "metadata": {},
   "source": [
    "### $T=2$"
   ]
  },
  {
   "cell_type": "code",
   "execution_count": 53,
   "metadata": {},
   "outputs": [
    {
     "name": "stdout",
     "output_type": "stream",
     "text": [
      "[0.    0.008 0.638 0.469 0.171 0.583 0.46  0.141 0.36  0.5  ]\n",
      "[0.258 0.086 0.    0.372 0.    0.    0.002 0.212 0.    0.   ]\n"
     ]
    }
   ],
   "source": [
    "out_0_t2 = nd.relu(nd.dot(dat[0][1], i2h_weight_0, transpose_b = True) + i2h_bias_0 \\\n",
    "      + nd.dot(h2h_weight_0, out_0_t1) + h2h_bias_0)\n",
    "out_1_t2 = nd.relu(nd.dot(out_0_t2, i2h_weight_1, transpose_b = True) + i2h_bias_1 \\\n",
    "      + nd.dot(h2h_weight_1, out_1_t1) + h2h_bias_1)\n",
    "\n",
    "print(out_0_t2.asnumpy())\n",
    "print(out_1_t2.asnumpy())"
   ]
  }
 ],
 "metadata": {
  "kernelspec": {
   "display_name": "Python 3",
   "language": "python",
   "name": "python3"
  },
  "language_info": {
   "codemirror_mode": {
    "name": "ipython",
    "version": 3
   },
   "file_extension": ".py",
   "mimetype": "text/x-python",
   "name": "python",
   "nbconvert_exporter": "python",
   "pygments_lexer": "ipython3",
   "version": "3.6.5"
  }
 },
 "nbformat": 4,
 "nbformat_minor": 2
}
