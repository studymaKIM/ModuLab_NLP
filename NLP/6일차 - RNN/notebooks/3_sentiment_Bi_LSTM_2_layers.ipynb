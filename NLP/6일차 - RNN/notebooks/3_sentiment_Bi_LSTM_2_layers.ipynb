{
 "cells": [
  {
   "cell_type": "markdown",
   "metadata": {},
   "source": [
    "#### REF\n",
    "* https://github.com/dmlc/gluon-nlp/blob/master/docs/api/notes/data_api.rst"
   ]
  },
  {
   "cell_type": "markdown",
   "metadata": {},
   "source": [
    "## Data Loading"
   ]
  },
  {
   "cell_type": "code",
   "execution_count": 1,
   "metadata": {
    "ExecuteTime": {
     "end_time": "2018-07-20T23:58:57.410465Z",
     "start_time": "2018-07-20T23:58:57.313125Z"
    }
   },
   "outputs": [],
   "source": [
    "import os\n",
    "import pandas as pd\n",
    "import numpy as np\n",
    "import nltk\n",
    "import collections\n",
    "from sklearn.preprocessing import normalize\n",
    "from sklearn.metrics import accuracy_score, auc\n",
    "from mxnet import gluon\n",
    "\n",
    "\n",
    "import time, re\n",
    "import multiprocessing as mp\n",
    "import itertools\n",
    "from tqdm import tqdm, tqdm_notebook\n",
    "import mxnet as mx\n",
    "import spacy\n",
    "os.environ['MXNET_ENGINE_TYPE'] = 'NaiveEngine'"
   ]
  },
  {
   "cell_type": "markdown",
   "metadata": {},
   "source": [
    "### Another Data preparation\n",
    "* Input data shape::$ (batch \\times word \\times vocab )$ \n",
    "* Split data: training & validation\n",
    "* Create data iterator for training"
   ]
  },
  {
   "cell_type": "code",
   "execution_count": 2,
   "metadata": {
    "ExecuteTime": {
     "end_time": "2018-07-20T23:59:02.851826Z",
     "start_time": "2018-07-20T23:59:02.847817Z"
    }
   },
   "outputs": [],
   "source": [
    "MAX_SENTENCE_LENGTH = 20\n",
    "MAX_VOCAB = 10000"
   ]
  },
  {
   "cell_type": "code",
   "execution_count": null,
   "metadata": {
    "ExecuteTime": {
     "end_time": "2018-07-21T00:01:54.877372Z",
     "start_time": "2018-07-20T23:59:04.343517Z"
    }
   },
   "outputs": [
    {
     "name": "stdout",
     "output_type": "stream",
     "text": [
      "Count words and build vocab...\n",
      "Prepare data...\n"
     ]
    }
   ],
   "source": [
    "nlp = spacy.load(\"en\")\n",
    "\n",
    "word_freq = collections.Counter()\n",
    "max_len = 0\n",
    "num_rec = 0\n",
    "print('Count words and build vocab...')\n",
    "with open('../data/umich-sentiment-train.txt', 'rb') as f:\n",
    "    for line in f:\n",
    "        _lab, _sen = line.decode('utf8').strip().split('\\t')\n",
    "        words = [token.lemma_ for token in nlp(_sen) if token.is_alpha] # Stop word제거 안한 상태 \n",
    "        # 제거를 위해 [token.lemma_ for token in doc if token.is_alpha and not token.is_stop]\n",
    "        if len(words) > max_len:\n",
    "            max_len = len(words)\n",
    "        for word in words:\n",
    "            word_freq[word] += 1\n",
    "        num_rec += 1\n",
    "\n",
    "# most_common output -> list\n",
    "word2idx = {x[0]: i+2 for i, x in enumerate(word_freq.most_common(MAX_VOCAB - 2))}\n",
    "word2idx ['PAD'] = 0\n",
    "word2idx['UNK'] = 1\n",
    "\n",
    "idx2word= {i:v for v, i in word2idx.items()}\n",
    "vocab_size = len(word2idx)\n",
    "\n",
    "print('Prepare data...')\n",
    "y = []\n",
    "x = []\n",
    "origin_txt = []\n",
    "with open('../data/umich-sentiment-train.txt', 'rb') as f:\n",
    "    for line in f:\n",
    "        _label, _sen = line.decode('utf8').strip().split('\\t')\n",
    "        origin_txt.append(_sen)\n",
    "        y.append(int(_label))\n",
    "        words = [token.lemma_ for token in nlp(_sen) if token.is_alpha] # Stop word제거 안한 상태\n",
    "        words = [x for x in words if x != '-PRON-'] # '-PRON-' 제거\n",
    "        _seq = []\n",
    "        for word in words:\n",
    "            if word in word2idx.keys():\n",
    "                _seq.append(word2idx[word])\n",
    "            else:\n",
    "                _seq.append(word2idx['UNK'])\n",
    "        if len(_seq) < MAX_SENTENCE_LENGTH:\n",
    "            _seq.extend([0] * ((MAX_SENTENCE_LENGTH) - len(_seq)))\n",
    "        else:\n",
    "            _seq = _seq[:MAX_SENTENCE_LENGTH]\n",
    "        x.append(_seq)\n",
    "\n",
    "pd.DataFrame(y, columns = ['yn']).reset_index().groupby('yn').count().reset_index()"
   ]
  },
  {
   "cell_type": "code",
   "execution_count": 4,
   "metadata": {
    "ExecuteTime": {
     "end_time": "2018-07-21T00:06:13.110042Z",
     "start_time": "2018-07-21T00:06:13.001642Z"
    }
   },
   "outputs": [],
   "source": [
    "## Data process - tr/va split and define iterator\n",
    "\n",
    "tr_idx = np.random.choice(range(len(x)), int(len(x) * .8))\n",
    "va_idx = [x for x in range(len(x)) if x not in tr_idx]\n",
    "\n",
    "tr_x = [x[i] for i in tr_idx]\n",
    "tr_y = [y[i] for i in tr_idx]\n",
    "va_x = [x[i] for i in va_idx]\n",
    "va_y = [y[i] for i in va_idx]\n",
    "\n",
    "batch_size = 16\n",
    "\n",
    "train_data = mx.io.NDArrayIter(data=[tr_x, tr_y], batch_size=batch_size, shuffle = False)\n",
    "valid_data = mx.io.NDArrayIter(data=[va_x, va_y], batch_size=batch_size, shuffle = False)"
   ]
  },
  {
   "cell_type": "code",
   "execution_count": 5,
   "metadata": {
    "ExecuteTime": {
     "end_time": "2018-07-21T00:06:16.350981Z",
     "start_time": "2018-07-21T00:06:16.347552Z"
    }
   },
   "outputs": [],
   "source": [
    "from mxnet import gluon, autograd, nd\n",
    "from mxnet.gluon import nn, rnn\n",
    "import mxnet as mx\n",
    "context = mx.cpu()"
   ]
  },
  {
   "cell_type": "markdown",
   "metadata": {},
   "source": [
    "### Parameters"
   ]
  },
  {
   "cell_type": "code",
   "execution_count": 6,
   "metadata": {
    "ExecuteTime": {
     "end_time": "2018-07-21T00:06:19.761524Z",
     "start_time": "2018-07-21T00:06:19.757185Z"
    }
   },
   "outputs": [],
   "source": [
    "learning_rate = .0002\n",
    "log_interval = 100\n",
    "emb_dim = 100 # Emb dim\n",
    "hidden_dim = 30 # Hidden dim for LSTM"
   ]
  },
  {
   "cell_type": "code",
   "execution_count": 7,
   "metadata": {
    "ExecuteTime": {
     "end_time": "2018-07-21T00:07:50.840778Z",
     "start_time": "2018-07-21T00:07:50.829725Z"
    }
   },
   "outputs": [],
   "source": [
    "class Sentence_Representation(nn.Block):\n",
    "    def __init__(self, EMB_DIM, HIDDEN_DIM, VOCAB_SIZE, dropout = .2, **kwargs):\n",
    "        super(Sentence_Representation, self).__init__(**kwargs)\n",
    "        self.VOCAB_SIZE = VOCAB_SIZE\n",
    "        self.EMB_DIM = EMB_DIM\n",
    "        self.HIDDEN_DIM = HIDDEN_DIM\n",
    "        with self.name_scope():\n",
    "            self.hidden = []\n",
    "            self.embed = nn.Embedding(VOCAB_SIZE, EMB_DIM)\n",
    "            self.lstm = rnn.LSTM(HIDDEN_DIM // 2, num_layers= 2 \\\n",
    "                                 , dropout = dropout, input_size = EMB_DIM \\\n",
    "                                 , bidirectional=True)\n",
    "            self.drop = nn.Dropout(.2)\n",
    "\n",
    "    def forward(self, x, hidden):\n",
    "        embeds = self.embed(x) # batch * time step * embedding: NTC\n",
    "        lstm_out, self.hidden = self.lstm(nd.transpose(embeds, (1, 0, 2)), hidden) #TNC로 변환\n",
    "        _hid = [nd.transpose(x, (1, 0, 2)) for x in self.hidden]\n",
    "        # Concatenate depreciated. use concat. input list of tensors\n",
    "        _hidden = nd.concat(*_hid)\n",
    "        return lstm_out, self.hidden\n",
    "\n",
    "    def begin_state(self, *args, **kwargs):\n",
    "        return self.lstm.begin_state(*args, **kwargs)"
   ]
  },
  {
   "cell_type": "code",
   "execution_count": 13,
   "metadata": {
    "ExecuteTime": {
     "end_time": "2018-07-21T00:17:42.390954Z",
     "start_time": "2018-07-21T00:17:42.383638Z"
    }
   },
   "outputs": [],
   "source": [
    "class SA_Classifier(nn.Block):\n",
    "    def __init__(self, sen_rep, classifier, batch_size, context, **kwargs):\n",
    "        super(SA_Classifier, self).__init__(**kwargs)\n",
    "        self.batch_size = batch_size\n",
    "        self.context = context\n",
    "        with self.name_scope():\n",
    "            self.sen_rep = sen_rep\n",
    "            self.classifier = classifier\n",
    "            \n",
    "    def forward(self, x):\n",
    "        hidden = self.sen_rep.begin_state(func = mx.nd.zeros, batch_size = self.batch_size, ctx = self.context)\n",
    "        #_x, _ = self.sen_rep(x, hidden)\n",
    "        # Use the last cell state from both directions\n",
    "        _, _x = self.sen_rep(x, hidden) \n",
    "        #print('x shape = {}'.format(_x[0].shape)) # Hidden state\n",
    "        #print('x shape = {}'.format(_x[1].shape)) # Cell state\n",
    "        # state = (2 * num_layers, batch_size, num_hidden): 2 for left and right LSTM\n",
    "        # Select the last layer for both of left LSTM and right LSTM\n",
    "        x = nd.concat(_x[1][1, :, :], _x[1][3, :, :], dim = -1)\n",
    "        x = self.classifier(x)\n",
    "        return x           "
   ]
  },
  {
   "cell_type": "code",
   "execution_count": 14,
   "metadata": {},
   "outputs": [],
   "source": [
    "sen_rep = Sentence_Representation(emb_dim, hidden_dim, MAX_VOCAB)\n",
    "#sen_rep.collect_params().initialize(mx.init.Xavier(), ctx = context)\n",
    "\n",
    "classifier = nn.Sequential()\n",
    "classifier.add(nn.Dense(16, activation = 'relu'))\n",
    "classifier.add(nn.Dense(8, activation = 'relu'))\n",
    "classifier.add(nn.Dense(1))"
   ]
  },
  {
   "cell_type": "code",
   "execution_count": 15,
   "metadata": {
    "ExecuteTime": {
     "end_time": "2018-07-04T04:15:45.120579Z",
     "start_time": "2018-07-04T04:15:44.964074Z"
    }
   },
   "outputs": [],
   "source": [
    "emb_dim = 50 # Emb dim\n",
    "hidden_dim = 30 # Hidden dim for LSTM\n",
    "sa = SA_Classifier(sen_rep, classifier,  batch_size, context)\n",
    "sa.collect_params().initialize(mx.init.Xavier(), ctx = context)\n",
    "loss = gluon.loss.SigmoidBCELoss()\n",
    "trainer = gluon.Trainer(sa.collect_params(), 'adam', {'learning_rate': 1e-3})"
   ]
  },
  {
   "cell_type": "code",
   "execution_count": 16,
   "metadata": {},
   "outputs": [],
   "source": [
    "def evaluate(net, dataIterator, context):\n",
    "    dataIterator.reset()\n",
    "    loss = gluon.loss.SigmoidBCELoss()\n",
    "    total_L = 0.0\n",
    "    total_sample_num = 0\n",
    "    total_correct_num = 0\n",
    "    start_log_interval_time = time.time()\n",
    "    for i, batch in enumerate(dataIterator):\n",
    "        data =  batch.data[0].as_in_context(context)\n",
    "        label = batch.data[1].as_in_context(context)\n",
    "        output = net(data)\n",
    "        L = loss(output, label)\n",
    "        pred = (output > 0.5).reshape((-1,))\n",
    "        #print('cor = {}'.format(pred == label))\n",
    "        total_L += L.sum().asscalar()\n",
    "        total_sample_num += len(label)\n",
    "        total_correct_num += (pred == label).sum().asscalar()\n",
    "        #print('total_correct_num = {}, total_correct_num = {}'.format(total_correct_num, total_sample_num))\n",
    "        if (i + 1) % log_interval == 0:\n",
    "            print('[Batch {}/{}] elapsed {:.2f} s'.format(\n",
    "                i + 1, dataIterator.num_data//dataIterator.batch_size + 1,\n",
    "                time.time() - start_log_interval_time))\n",
    "            start_log_interval_time = time.time()\n",
    "    avg_L = total_L / float(total_sample_num)\n",
    "    acc = total_correct_num / float(total_sample_num)\n",
    "    return avg_L, acc"
   ]
  },
  {
   "cell_type": "code",
   "execution_count": 17,
   "metadata": {},
   "outputs": [
    {
     "data": {
      "application/vnd.jupyter.widget-view+json": {
       "model_id": "5840bbec44ee4d63babb904708da0267",
       "version_major": 2,
       "version_minor": 0
      },
      "text/plain": [
       "HBox(children=(IntProgress(value=0, description='epoch', max=5), HTML(value='')))"
      ]
     },
     "metadata": {},
     "output_type": "display_data"
    },
    {
     "name": "stdout",
     "output_type": "stream",
     "text": [
      "[Epoch 0 Batch 100/354] elapsed 1.67 s,                     avg loss 0.025181, throughput 0.96K wps\n",
      "[Epoch 0 Batch 200/354] elapsed 1.62 s,                     avg loss 0.003241, throughput 0.99K wps\n",
      "[Epoch 0 Batch 300/354] elapsed 1.61 s,                     avg loss 0.001014, throughput 0.99K wps\n",
      "[Batch 100/199] elapsed 0.47 s\n",
      "[Batch 200/199] elapsed 0.47 s\n",
      "[Epoch 0] train avg loss 0.008539, valid acc 0.98,         valid avg loss 0.060673, throughput 0.98K wps\n",
      "[Epoch 1 Batch 100/354] elapsed 1.61 s,                     avg loss 0.001011, throughput 0.99K wps\n",
      "[Epoch 1 Batch 200/354] elapsed 1.62 s,                     avg loss 0.000398, throughput 0.99K wps\n",
      "[Epoch 1 Batch 300/354] elapsed 1.69 s,                     avg loss 0.000343, throughput 0.94K wps\n",
      "[Batch 100/199] elapsed 0.47 s\n",
      "[Batch 200/199] elapsed 0.47 s\n",
      "[Epoch 1] train avg loss 0.000509, valid acc 0.99,         valid avg loss 0.046512, throughput 0.98K wps\n",
      "[Epoch 2 Batch 100/354] elapsed 1.62 s,                     avg loss 0.000092, throughput 0.99K wps\n",
      "[Epoch 2 Batch 200/354] elapsed 1.62 s,                     avg loss 0.000431, throughput 0.99K wps\n",
      "[Epoch 2 Batch 300/354] elapsed 1.61 s,                     avg loss 0.000127, throughput 0.99K wps\n",
      "[Batch 100/199] elapsed 0.47 s\n",
      "[Batch 200/199] elapsed 0.47 s\n",
      "[Epoch 2] train avg loss 0.000188, valid acc 0.99,         valid avg loss 0.051900, throughput 0.99K wps\n",
      "[Epoch 3 Batch 100/354] elapsed 1.62 s,                     avg loss 0.000014, throughput 0.99K wps\n",
      "[Epoch 3 Batch 200/354] elapsed 1.62 s,                     avg loss 0.000223, throughput 0.99K wps\n",
      "[Epoch 3 Batch 300/354] elapsed 1.62 s,                     avg loss 0.000044, throughput 0.99K wps\n",
      "[Batch 100/199] elapsed 0.47 s\n",
      "[Batch 200/199] elapsed 0.47 s\n",
      "[Epoch 3] train avg loss 0.000080, valid acc 0.99,         valid avg loss 0.056142, throughput 0.99K wps\n",
      "[Epoch 4 Batch 100/354] elapsed 1.62 s,                     avg loss 0.000005, throughput 0.99K wps\n",
      "[Epoch 4 Batch 200/354] elapsed 1.62 s,                     avg loss 0.000173, throughput 0.99K wps\n",
      "[Epoch 4 Batch 300/354] elapsed 1.62 s,                     avg loss 0.000071, throughput 0.99K wps\n",
      "[Batch 100/199] elapsed 0.47 s\n",
      "[Batch 200/199] elapsed 0.47 s\n",
      "[Epoch 4] train avg loss 0.000071, valid acc 0.99,         valid avg loss 0.055357, throughput 0.99K wps\n"
     ]
    }
   ],
   "source": [
    "n_epoch = 5\n",
    "for epoch in tqdm_notebook(range(n_epoch), desc = 'epoch'):\n",
    "    ## Training\n",
    "    train_data.reset()\n",
    "    # Epoch training stats\n",
    "    start_epoch_time = time.time()\n",
    "    epoch_L = 0.0\n",
    "    epoch_sent_num = 0\n",
    "    epoch_wc = 0\n",
    "    # Log interval training stats\n",
    "    start_log_interval_time = time.time()\n",
    "    log_interval_wc = 0\n",
    "    log_interval_sent_num = 0\n",
    "    log_interval_L = 0.0\n",
    "    \n",
    "    for i, batch in enumerate(train_data):\n",
    "        _data = batch.data[0].as_in_context(context)\n",
    "        _label = batch.data[1].as_in_context(context)\n",
    "        L = 0\n",
    "        wc = len(_data)\n",
    "        log_interval_wc += wc\n",
    "        epoch_wc += wc\n",
    "        log_interval_sent_num += _data.shape[1]\n",
    "        epoch_sent_num += _data.shape[1]\n",
    "        with autograd.record():\n",
    "            _out = sa(_data)\n",
    "            L = L + loss(_out, _label).mean().as_in_context(context)\n",
    "        L.backward()\n",
    "        trainer.step(_data.shape[0])\n",
    "        log_interval_L += L.asscalar()\n",
    "        epoch_L += L.asscalar()\n",
    "        if (i + 1) % log_interval == 0:\n",
    "            tqdm.write('[Epoch {} Batch {}/{}] elapsed {:.2f} s, \\\n",
    "                    avg loss {:.6f}, throughput {:.2f}K wps'.format(\n",
    "                    epoch, i + 1, train_data.num_data//train_data.batch_size,\n",
    "                    time.time() - start_log_interval_time,\n",
    "                    log_interval_L / log_interval_sent_num,\n",
    "                    log_interval_wc / 1000 / (time.time() - start_log_interval_time)))\n",
    "            # Clear log interval training stats\n",
    "            start_log_interval_time = time.time()\n",
    "            log_interval_wc = 0\n",
    "            log_interval_sent_num = 0\n",
    "            log_interval_L = 0\n",
    "    end_epoch_time = time.time()\n",
    "    test_avg_L, test_acc = evaluate(sa, valid_data, context)\n",
    "    tqdm.write('[Epoch {}] train avg loss {:.6f}, valid acc {:.2f}, \\\n",
    "        valid avg loss {:.6f}, throughput {:.2f}K wps'.format(\n",
    "        epoch, epoch_L / epoch_sent_num,\n",
    "        test_acc, test_avg_L, epoch_wc / 1000 /\n",
    "        (end_epoch_time - start_epoch_time)))"
   ]
  },
  {
   "cell_type": "code",
   "execution_count": 20,
   "metadata": {},
   "outputs": [
    {
     "data": {
      "text/html": [
       "<div>\n",
       "<style scoped>\n",
       "    .dataframe tbody tr th:only-of-type {\n",
       "        vertical-align: middle;\n",
       "    }\n",
       "\n",
       "    .dataframe tbody tr th {\n",
       "        vertical-align: top;\n",
       "    }\n",
       "\n",
       "    .dataframe thead th {\n",
       "        text-align: right;\n",
       "    }\n",
       "</style>\n",
       "<table border=\"1\" class=\"dataframe\">\n",
       "  <thead>\n",
       "    <tr style=\"text-align: right;\">\n",
       "      <th></th>\n",
       "      <th>txt</th>\n",
       "      <th>pred_sa</th>\n",
       "      <th>label</th>\n",
       "    </tr>\n",
       "  </thead>\n",
       "  <tbody>\n",
       "    <tr>\n",
       "      <th>0</th>\n",
       "      <td>BROKEBACK MOUNTAIN STINKS..</td>\n",
       "      <td>1.0</td>\n",
       "      <td>0</td>\n",
       "    </tr>\n",
       "    <tr>\n",
       "      <th>1</th>\n",
       "      <td>Da Vinci Code = Up, Up, Down, Down, Left, Righ...</td>\n",
       "      <td>0.0</td>\n",
       "      <td>0</td>\n",
       "    </tr>\n",
       "    <tr>\n",
       "      <th>2</th>\n",
       "      <td>Da Vinci Code sucks.</td>\n",
       "      <td>0.0</td>\n",
       "      <td>0</td>\n",
       "    </tr>\n",
       "    <tr>\n",
       "      <th>3</th>\n",
       "      <td>I love Brokeback Mountain.</td>\n",
       "      <td>1.0</td>\n",
       "      <td>1</td>\n",
       "    </tr>\n",
       "    <tr>\n",
       "      <th>4</th>\n",
       "      <td>dudeee i LOVED brokeback mountain!!!!</td>\n",
       "      <td>1.0</td>\n",
       "      <td>1</td>\n",
       "    </tr>\n",
       "    <tr>\n",
       "      <th>5</th>\n",
       "      <td>Brokeback Mountain was boring.</td>\n",
       "      <td>0.0</td>\n",
       "      <td>0</td>\n",
       "    </tr>\n",
       "    <tr>\n",
       "      <th>6</th>\n",
       "      <td>The Da Vinci Code is awesome..</td>\n",
       "      <td>1.0</td>\n",
       "      <td>1</td>\n",
       "    </tr>\n",
       "    <tr>\n",
       "      <th>7</th>\n",
       "      <td>I love The Da Vinci Code...</td>\n",
       "      <td>1.0</td>\n",
       "      <td>1</td>\n",
       "    </tr>\n",
       "    <tr>\n",
       "      <th>8</th>\n",
       "      <td>Brokeback Mountain was so awesome.</td>\n",
       "      <td>1.0</td>\n",
       "      <td>1</td>\n",
       "    </tr>\n",
       "    <tr>\n",
       "      <th>9</th>\n",
       "      <td>I am going to start reading the Harry Potter s...</td>\n",
       "      <td>1.0</td>\n",
       "      <td>1</td>\n",
       "    </tr>\n",
       "  </tbody>\n",
       "</table>\n",
       "</div>"
      ],
      "text/plain": [
       "                                                 txt  pred_sa  label\n",
       "0                        BROKEBACK MOUNTAIN STINKS..      1.0      0\n",
       "1  Da Vinci Code = Up, Up, Down, Down, Left, Righ...      0.0      0\n",
       "2                               Da Vinci Code sucks.      0.0      0\n",
       "3                         I love Brokeback Mountain.      1.0      1\n",
       "4              dudeee i LOVED brokeback mountain!!!!      1.0      1\n",
       "5                     Brokeback Mountain was boring.      0.0      0\n",
       "6                     The Da Vinci Code is awesome..      1.0      1\n",
       "7                        I love The Da Vinci Code...      1.0      1\n",
       "8                 Brokeback Mountain was so awesome.      1.0      1\n",
       "9  I am going to start reading the Harry Potter s...      1.0      1"
      ]
     },
     "execution_count": 20,
     "metadata": {},
     "output_type": "execute_result"
    }
   ],
   "source": [
    "import numpy as np\n",
    "# We need to specify batch_size explicitly becuase we need that in reshaping\n",
    "idx = np.random.choice(len(va_idx), batch_size)\n",
    "va_txt = [origin_txt[_idx] for _idx in va_idx]\n",
    "va_txt = [va_txt[j] for j in idx]\n",
    "va_txt = pd.DataFrame(va_txt, columns = ['txt'])\n",
    "y_pred_sa = sa(nd.array([va_x[i] for i in idx], ctx = context))\n",
    "pred_sa = [nd.round(val).asnumpy() for val in nd.sigmoid(y_pred_sa)] \n",
    "pred_sa_pd = pd.DataFrame(pred_sa, columns  = ['pred_sa'])\n",
    "label_pd = pd.DataFrame([va_y[j] for j in idx], columns = ['label'])\n",
    "result = pd.concat([va_txt, pred_sa_pd, label_pd], axis = 1)\n",
    "result.head(10)"
   ]
  },
  {
   "cell_type": "code",
   "execution_count": 21,
   "metadata": {},
   "outputs": [
    {
     "data": {
      "text/plain": [
       "(1, 3)"
      ]
     },
     "execution_count": 21,
     "metadata": {},
     "output_type": "execute_result"
    }
   ],
   "source": [
    "result[result['pred_sa'] != result['label']].shape"
   ]
  },
  {
   "cell_type": "markdown",
   "metadata": {},
   "source": [
    "### Result\n",
    "\n",
    "* Only  no comments are mis-classified"
   ]
  }
 ],
 "metadata": {
  "kernelspec": {
   "display_name": "Python 3",
   "language": "python",
   "name": "python3"
  },
  "language_info": {
   "codemirror_mode": {
    "name": "ipython",
    "version": 3
   },
   "file_extension": ".py",
   "mimetype": "text/x-python",
   "name": "python",
   "nbconvert_exporter": "python",
   "pygments_lexer": "ipython3",
   "version": "3.6.5"
  }
 },
 "nbformat": 4,
 "nbformat_minor": 2
}
