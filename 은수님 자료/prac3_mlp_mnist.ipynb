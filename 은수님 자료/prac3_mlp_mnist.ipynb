{
 "cells": [
  {
   "cell_type": "code",
   "execution_count": 1,
   "metadata": {},
   "outputs": [
    {
     "name": "stderr",
     "output_type": "stream",
     "text": [
      "Using TensorFlow backend.\n"
     ]
    }
   ],
   "source": [
    "# -*- coding: utf-8 -*-\n",
    "\n",
    "from __future__ import print_function\n",
    "\n",
    "import keras\n",
    "from keras.datasets import mnist\n",
    "from keras.models import Sequential\n",
    "from keras.layers import Dense, Dropout"
   ]
  },
  {
   "cell_type": "code",
   "execution_count": 2,
   "metadata": {},
   "outputs": [],
   "source": [
    "batch_size = 128\n",
    "num_classes = 10\n",
    "epochs = 20"
   ]
  },
  {
   "cell_type": "code",
   "execution_count": 3,
   "metadata": {},
   "outputs": [
    {
     "name": "stdout",
     "output_type": "stream",
     "text": [
      "60000 train samples\n",
      "10000 test samples\n"
     ]
    }
   ],
   "source": [
    "# the data, shuffled and split between train and test sets\n",
    "(x_train, y_train), (x_test, y_test) = mnist.load_data()\n",
    "\n",
    "x_train = x_train.reshape(60000, 784)\n",
    "x_test = x_test.reshape(10000, 784)\n",
    "x_train = x_train.astype('float32')\n",
    "x_test = x_test.astype('float32')\n",
    "x_train /= 255\n",
    "x_test /= 255\n",
    "print(x_train.shape[0], 'train samples')\n",
    "print(x_test.shape[0], 'test samples')"
   ]
  },
  {
   "cell_type": "code",
   "execution_count": 4,
   "metadata": {},
   "outputs": [],
   "source": [
    "# convert class vectors to binary class matrices\n",
    "y_train = keras.utils.to_categorical(y_train, num_classes)\n",
    "y_test = keras.utils.to_categorical(y_test, num_classes)"
   ]
  },
  {
   "cell_type": "code",
   "execution_count": 5,
   "metadata": {},
   "outputs": [],
   "source": [
    "model = Sequential()\n",
    "\n",
    "#############################################\n",
    "################## Code ##################\n",
    "#############################################\n",
    "#### 주석에 맡게 ? 부분을 채우세요.\n",
    "# 512개의 뉴런, activation : 'relu'의 Dense Layer\n",
    "model.add(Dense(512, activation='relu', input_shape=(784,)))\n",
    "# 512개의 뉴런, activation : 'relu'\n",
    "model.add(Dense(512, activation='relu'))\n",
    "# Class의 수 많큼의 뉴런, activation : 'softmax'\n",
    "model.add(Dense(num_classes, activation='softmax'))"
   ]
  },
  {
   "cell_type": "code",
   "execution_count": 6,
   "metadata": {},
   "outputs": [
    {
     "name": "stdout",
     "output_type": "stream",
     "text": [
      "_________________________________________________________________\n",
      "Layer (type)                 Output Shape              Param #   \n",
      "=================================================================\n",
      "dense_1 (Dense)              (None, 512)               401920    \n",
      "_________________________________________________________________\n",
      "dense_2 (Dense)              (None, 512)               262656    \n",
      "_________________________________________________________________\n",
      "dense_3 (Dense)              (None, 10)                5130      \n",
      "=================================================================\n",
      "Total params: 669,706\n",
      "Trainable params: 669,706\n",
      "Non-trainable params: 0\n",
      "_________________________________________________________________\n"
     ]
    }
   ],
   "source": [
    "model.summary()"
   ]
  },
  {
   "cell_type": "code",
   "execution_count": 7,
   "metadata": {},
   "outputs": [],
   "source": [
    "#############################################\n",
    "################## End of your Code ##################\n",
    "#############################################"
   ]
  },
  {
   "cell_type": "code",
   "execution_count": 9,
   "metadata": {},
   "outputs": [],
   "source": [
    "# loss 는 크로스 엔트로피, Optimizer는 RMSprop(), metric : 학습이 아닌 평가할 때 사용하는 것.\n",
    "model.compile(loss='categorical_crossentropy',\n",
    "              optimizer='sgd',\n",
    "              metrics=['accuracy'])\n"
   ]
  },
  {
   "cell_type": "code",
   "execution_count": 11,
   "metadata": {
    "scrolled": true
   },
   "outputs": [
    {
     "name": "stdout",
     "output_type": "stream",
     "text": [
      "Train on 60000 samples, validate on 10000 samples\n",
      "Epoch 1/20\n",
      "60000/60000 [==============================] - 3s 48us/step - loss: 0.2744 - acc: 0.9223 - val_loss: 0.2558 - val_acc: 0.9292\n",
      "Epoch 2/20\n",
      "60000/60000 [==============================] - 3s 47us/step - loss: 0.2582 - acc: 0.9269 - val_loss: 0.2438 - val_acc: 0.9322\n",
      "Epoch 3/20\n",
      "60000/60000 [==============================] - 3s 47us/step - loss: 0.2445 - acc: 0.9303 - val_loss: 0.2322 - val_acc: 0.9359\n",
      "Epoch 4/20\n",
      "60000/60000 [==============================] - 3s 49us/step - loss: 0.2326 - acc: 0.9344 - val_loss: 0.2221 - val_acc: 0.9382\n",
      "Epoch 5/20\n",
      "60000/60000 [==============================] - 3s 50us/step - loss: 0.2219 - acc: 0.9375 - val_loss: 0.2154 - val_acc: 0.9393\n",
      "Epoch 6/20\n",
      "60000/60000 [==============================] - 3s 50us/step - loss: 0.2122 - acc: 0.9402 - val_loss: 0.2072 - val_acc: 0.9423\n",
      "Epoch 7/20\n",
      "60000/60000 [==============================] - 3s 48us/step - loss: 0.2032 - acc: 0.9425 - val_loss: 0.1986 - val_acc: 0.9446\n",
      "Epoch 8/20\n",
      "60000/60000 [==============================] - 3s 48us/step - loss: 0.1950 - acc: 0.9446 - val_loss: 0.1905 - val_acc: 0.9456\n",
      "Epoch 9/20\n",
      "60000/60000 [==============================] - 3s 49us/step - loss: 0.1874 - acc: 0.9468 - val_loss: 0.1858 - val_acc: 0.9463\n",
      "Epoch 10/20\n",
      "60000/60000 [==============================] - 3s 49us/step - loss: 0.1803 - acc: 0.9490 - val_loss: 0.1798 - val_acc: 0.9482\n",
      "Epoch 11/20\n",
      "60000/60000 [==============================] - 3s 54us/step - loss: 0.1736 - acc: 0.9508 - val_loss: 0.1744 - val_acc: 0.9484\n",
      "Epoch 12/20\n",
      "60000/60000 [==============================] - 3s 54us/step - loss: 0.1674 - acc: 0.9525 - val_loss: 0.1686 - val_acc: 0.9517\n",
      "Epoch 13/20\n",
      "60000/60000 [==============================] - 3s 52us/step - loss: 0.1618 - acc: 0.9540 - val_loss: 0.1631 - val_acc: 0.9526\n",
      "Epoch 14/20\n",
      "60000/60000 [==============================] - 3s 52us/step - loss: 0.1564 - acc: 0.9556 - val_loss: 0.1580 - val_acc: 0.9550\n",
      "Epoch 15/20\n",
      "60000/60000 [==============================] - 3s 52us/step - loss: 0.1510 - acc: 0.9571 - val_loss: 0.1536 - val_acc: 0.9557\n",
      "Epoch 16/20\n",
      "60000/60000 [==============================] - 3s 52us/step - loss: 0.1463 - acc: 0.9587 - val_loss: 0.1525 - val_acc: 0.9567\n",
      "Epoch 17/20\n",
      "60000/60000 [==============================] - 3s 53us/step - loss: 0.1417 - acc: 0.9600 - val_loss: 0.1472 - val_acc: 0.9575\n",
      "Epoch 18/20\n",
      "60000/60000 [==============================] - 3s 55us/step - loss: 0.1373 - acc: 0.9617 - val_loss: 0.1432 - val_acc: 0.9588\n",
      "Epoch 19/20\n",
      "60000/60000 [==============================] - 3s 52us/step - loss: 0.1332 - acc: 0.9628 - val_loss: 0.1411 - val_acc: 0.9596\n",
      "Epoch 20/20\n",
      "60000/60000 [==============================] - 3s 56us/step - loss: 0.1294 - acc: 0.9642 - val_loss: 0.1362 - val_acc: 0.9613\n",
      "Test loss: 0.13618275049626827\n",
      "Test accuracy: 0.9613\n"
     ]
    }
   ],
   "source": [
    "# epoch : 모델이 학습데이터 젠체를 살펴본 횟수\n",
    "history = model.fit(x_train, y_train,\n",
    "                    batch_size=batch_size,\n",
    "                    epochs=epochs,\n",
    "                    verbose=1,\n",
    "                    validation_data=(x_test, y_test))\n",
    "score = model.evaluate(x_test, y_test, verbose=0)"
   ]
  },
  {
   "cell_type": "code",
   "execution_count": 12,
   "metadata": {},
   "outputs": [
    {
     "name": "stdout",
     "output_type": "stream",
     "text": [
      "Test loss: 0.13618275049626827\n",
      "Test accuracy: 0.9613\n"
     ]
    }
   ],
   "source": [
    "print('Test loss:', score[0])\n",
    "print('Test accuracy:', score[1])"
   ]
  },
  {
   "cell_type": "code",
   "execution_count": null,
   "metadata": {},
   "outputs": [],
   "source": []
  }
 ],
 "metadata": {
  "kernelspec": {
   "display_name": "Python 3",
   "language": "python",
   "name": "python3"
  },
  "language_info": {
   "codemirror_mode": {
    "name": "ipython",
    "version": 3
   },
   "file_extension": ".py",
   "mimetype": "text/x-python",
   "name": "python",
   "nbconvert_exporter": "python",
   "pygments_lexer": "ipython3",
   "version": "3.6.4"
  }
 },
 "nbformat": 4,
 "nbformat_minor": 2
}
